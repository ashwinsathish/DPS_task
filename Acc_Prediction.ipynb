{
  "nbformat": 4,
  "nbformat_minor": 0,
  "metadata": {
    "colab": {
      "provenance": [],
      "mount_file_id": "1hyDgoOMFTYvYDIjb9qDeIxqnkBwpbRkf",
      "authorship_tag": "ABX9TyPm5/HIFKuSNz/40VkAuklS",
      "include_colab_link": true
    },
    "kernelspec": {
      "name": "python3",
      "display_name": "Python 3"
    },
    "language_info": {
      "name": "python"
    }
  },
  "cells": [
    {
      "cell_type": "markdown",
      "metadata": {
        "id": "view-in-github",
        "colab_type": "text"
      },
      "source": [
        "<a href=\"https://colab.research.google.com/github/ashwinsathish/DPS_task/blob/main/Acc_Prediction.ipynb\" target=\"_parent\"><img src=\"https://colab.research.google.com/assets/colab-badge.svg\" alt=\"Open In Colab\"/></a>"
      ]
    },
    {
      "cell_type": "markdown",
      "source": [
        "## Preparing data"
      ],
      "metadata": {
        "id": "ukltFXTn_Bj4"
      }
    },
    {
      "cell_type": "code",
      "execution_count": 1,
      "metadata": {
        "id": "CqOeeGkdmB5h"
      },
      "outputs": [],
      "source": [
        "import pandas as pd\n",
        "import matplotlib.pyplot as plt"
      ]
    },
    {
      "cell_type": "code",
      "source": [
        "df = pd.read_csv(\"Monthly_accidents.csv\")\n",
        "print(df.iloc[:5, :5])"
      ],
      "metadata": {
        "colab": {
          "base_uri": "https://localhost:8080/"
        },
        "id": "iqNy_D71mWAL",
        "outputId": "b98ee8a5-5d10-41eb-fc50-8aa9ea32ff34"
      },
      "execution_count": 2,
      "outputs": [
        {
          "output_type": "stream",
          "name": "stdout",
          "text": [
            "       MONATSZAHL AUSPRÄGUNG  JAHR   MONAT  WERT\n",
            "0  Alkoholunfälle  insgesamt  2022  202201   NaN\n",
            "1  Alkoholunfälle  insgesamt  2022  202202   NaN\n",
            "2  Alkoholunfälle  insgesamt  2022  202203   NaN\n",
            "3  Alkoholunfälle  insgesamt  2022  202204   NaN\n",
            "4  Alkoholunfälle  insgesamt  2022  202205   NaN\n"
          ]
        }
      ]
    },
    {
      "cell_type": "code",
      "source": [
        "# translating column names to English \n",
        "df = df.rename(columns={\"MONATSZAHL\": \"Category\", \"AUSPRÄGUNG\": \"Accident-Type\", \"JAHR\": \"Year\", \"MONAT\": \"Month\", \"WERT\": \"Value\"})"
      ],
      "metadata": {
        "id": "16fis1UjmWCZ"
      },
      "execution_count": 3,
      "outputs": []
    },
    {
      "cell_type": "code",
      "source": [
        "print(df.iloc[:5, :])"
      ],
      "metadata": {
        "colab": {
          "base_uri": "https://localhost:8080/"
        },
        "id": "52J_UvsSmWEv",
        "outputId": "e605a7d1-04f4-4b25-eedd-e024cd5dbbf6"
      },
      "execution_count": 4,
      "outputs": [
        {
          "output_type": "stream",
          "name": "stdout",
          "text": [
            "         Category Accident-Type  Year   Month  Value  VORJAHRESWERT  \\\n",
            "0  Alkoholunfälle     insgesamt  2022  202201    NaN           16.0   \n",
            "1  Alkoholunfälle     insgesamt  2022  202202    NaN           14.0   \n",
            "2  Alkoholunfälle     insgesamt  2022  202203    NaN           24.0   \n",
            "3  Alkoholunfälle     insgesamt  2022  202204    NaN           16.0   \n",
            "4  Alkoholunfälle     insgesamt  2022  202205    NaN           24.0   \n",
            "\n",
            "   VERÄND_VORMONAT_PROZENT  VERÄND_VORJAHRESMONAT_PROZENT  \\\n",
            "0                      NaN                            NaN   \n",
            "1                      NaN                            NaN   \n",
            "2                      NaN                            NaN   \n",
            "3                      NaN                            NaN   \n",
            "4                      NaN                            NaN   \n",
            "\n",
            "   ZWÖLF_MONATE_MITTELWERT  \n",
            "0                      NaN  \n",
            "1                      NaN  \n",
            "2                      NaN  \n",
            "3                      NaN  \n",
            "4                      NaN  \n"
          ]
        }
      ]
    },
    {
      "cell_type": "code",
      "source": [
        "# filtering the table to the required no. of columns\n",
        "new_df = df[[\"Category\", \"Accident-Type\", \"Year\", \"Month\", \"Value\"]]\n",
        "new_df.to_csv(\"Monthly_accidents_filtered.csv\", index=False)\n",
        "print(new_df.iloc[:5, :])"
      ],
      "metadata": {
        "colab": {
          "base_uri": "https://localhost:8080/"
        },
        "id": "ULMnBnznmWHU",
        "outputId": "f6e8c61c-88d9-4124-afdd-9ebbfa02d700"
      },
      "execution_count": 5,
      "outputs": [
        {
          "output_type": "stream",
          "name": "stdout",
          "text": [
            "         Category Accident-Type  Year   Month  Value\n",
            "0  Alkoholunfälle     insgesamt  2022  202201    NaN\n",
            "1  Alkoholunfälle     insgesamt  2022  202202    NaN\n",
            "2  Alkoholunfälle     insgesamt  2022  202203    NaN\n",
            "3  Alkoholunfälle     insgesamt  2022  202204    NaN\n",
            "4  Alkoholunfälle     insgesamt  2022  202205    NaN\n"
          ]
        }
      ]
    },
    {
      "cell_type": "code",
      "source": [
        "new_df1 = new_df.dropna()\n",
        "new_df1.head()"
      ],
      "metadata": {
        "colab": {
          "base_uri": "https://localhost:8080/",
          "height": 204
        },
        "id": "fn8cJ0RZmWJt",
        "outputId": "321e996a-9233-4c36-d4a3-5a66ca49b7c2"
      },
      "execution_count": 6,
      "outputs": [
        {
          "output_type": "execute_result",
          "data": {
            "text/plain": [
              "          Category Accident-Type  Year   Month  Value\n",
              "12  Alkoholunfälle     insgesamt  2021   Summe  383.0\n",
              "13  Alkoholunfälle     insgesamt  2021  202101   16.0\n",
              "14  Alkoholunfälle     insgesamt  2021  202102   14.0\n",
              "15  Alkoholunfälle     insgesamt  2021  202103   24.0\n",
              "16  Alkoholunfälle     insgesamt  2021  202104   16.0"
            ],
            "text/html": [
              "\n",
              "  <div id=\"df-035911cf-c199-419d-8cb0-8d6771e5d773\">\n",
              "    <div class=\"colab-df-container\">\n",
              "      <div>\n",
              "<style scoped>\n",
              "    .dataframe tbody tr th:only-of-type {\n",
              "        vertical-align: middle;\n",
              "    }\n",
              "\n",
              "    .dataframe tbody tr th {\n",
              "        vertical-align: top;\n",
              "    }\n",
              "\n",
              "    .dataframe thead th {\n",
              "        text-align: right;\n",
              "    }\n",
              "</style>\n",
              "<table border=\"1\" class=\"dataframe\">\n",
              "  <thead>\n",
              "    <tr style=\"text-align: right;\">\n",
              "      <th></th>\n",
              "      <th>Category</th>\n",
              "      <th>Accident-Type</th>\n",
              "      <th>Year</th>\n",
              "      <th>Month</th>\n",
              "      <th>Value</th>\n",
              "    </tr>\n",
              "  </thead>\n",
              "  <tbody>\n",
              "    <tr>\n",
              "      <th>12</th>\n",
              "      <td>Alkoholunfälle</td>\n",
              "      <td>insgesamt</td>\n",
              "      <td>2021</td>\n",
              "      <td>Summe</td>\n",
              "      <td>383.0</td>\n",
              "    </tr>\n",
              "    <tr>\n",
              "      <th>13</th>\n",
              "      <td>Alkoholunfälle</td>\n",
              "      <td>insgesamt</td>\n",
              "      <td>2021</td>\n",
              "      <td>202101</td>\n",
              "      <td>16.0</td>\n",
              "    </tr>\n",
              "    <tr>\n",
              "      <th>14</th>\n",
              "      <td>Alkoholunfälle</td>\n",
              "      <td>insgesamt</td>\n",
              "      <td>2021</td>\n",
              "      <td>202102</td>\n",
              "      <td>14.0</td>\n",
              "    </tr>\n",
              "    <tr>\n",
              "      <th>15</th>\n",
              "      <td>Alkoholunfälle</td>\n",
              "      <td>insgesamt</td>\n",
              "      <td>2021</td>\n",
              "      <td>202103</td>\n",
              "      <td>24.0</td>\n",
              "    </tr>\n",
              "    <tr>\n",
              "      <th>16</th>\n",
              "      <td>Alkoholunfälle</td>\n",
              "      <td>insgesamt</td>\n",
              "      <td>2021</td>\n",
              "      <td>202104</td>\n",
              "      <td>16.0</td>\n",
              "    </tr>\n",
              "  </tbody>\n",
              "</table>\n",
              "</div>\n",
              "      <button class=\"colab-df-convert\" onclick=\"convertToInteractive('df-035911cf-c199-419d-8cb0-8d6771e5d773')\"\n",
              "              title=\"Convert this dataframe to an interactive table.\"\n",
              "              style=\"display:none;\">\n",
              "        \n",
              "  <svg xmlns=\"http://www.w3.org/2000/svg\" height=\"24px\"viewBox=\"0 0 24 24\"\n",
              "       width=\"24px\">\n",
              "    <path d=\"M0 0h24v24H0V0z\" fill=\"none\"/>\n",
              "    <path d=\"M18.56 5.44l.94 2.06.94-2.06 2.06-.94-2.06-.94-.94-2.06-.94 2.06-2.06.94zm-11 1L8.5 8.5l.94-2.06 2.06-.94-2.06-.94L8.5 2.5l-.94 2.06-2.06.94zm10 10l.94 2.06.94-2.06 2.06-.94-2.06-.94-.94-2.06-.94 2.06-2.06.94z\"/><path d=\"M17.41 7.96l-1.37-1.37c-.4-.4-.92-.59-1.43-.59-.52 0-1.04.2-1.43.59L10.3 9.45l-7.72 7.72c-.78.78-.78 2.05 0 2.83L4 21.41c.39.39.9.59 1.41.59.51 0 1.02-.2 1.41-.59l7.78-7.78 2.81-2.81c.8-.78.8-2.07 0-2.86zM5.41 20L4 18.59l7.72-7.72 1.47 1.35L5.41 20z\"/>\n",
              "  </svg>\n",
              "      </button>\n",
              "      \n",
              "  <style>\n",
              "    .colab-df-container {\n",
              "      display:flex;\n",
              "      flex-wrap:wrap;\n",
              "      gap: 12px;\n",
              "    }\n",
              "\n",
              "    .colab-df-convert {\n",
              "      background-color: #E8F0FE;\n",
              "      border: none;\n",
              "      border-radius: 50%;\n",
              "      cursor: pointer;\n",
              "      display: none;\n",
              "      fill: #1967D2;\n",
              "      height: 32px;\n",
              "      padding: 0 0 0 0;\n",
              "      width: 32px;\n",
              "    }\n",
              "\n",
              "    .colab-df-convert:hover {\n",
              "      background-color: #E2EBFA;\n",
              "      box-shadow: 0px 1px 2px rgba(60, 64, 67, 0.3), 0px 1px 3px 1px rgba(60, 64, 67, 0.15);\n",
              "      fill: #174EA6;\n",
              "    }\n",
              "\n",
              "    [theme=dark] .colab-df-convert {\n",
              "      background-color: #3B4455;\n",
              "      fill: #D2E3FC;\n",
              "    }\n",
              "\n",
              "    [theme=dark] .colab-df-convert:hover {\n",
              "      background-color: #434B5C;\n",
              "      box-shadow: 0px 1px 3px 1px rgba(0, 0, 0, 0.15);\n",
              "      filter: drop-shadow(0px 1px 2px rgba(0, 0, 0, 0.3));\n",
              "      fill: #FFFFFF;\n",
              "    }\n",
              "  </style>\n",
              "\n",
              "      <script>\n",
              "        const buttonEl =\n",
              "          document.querySelector('#df-035911cf-c199-419d-8cb0-8d6771e5d773 button.colab-df-convert');\n",
              "        buttonEl.style.display =\n",
              "          google.colab.kernel.accessAllowed ? 'block' : 'none';\n",
              "\n",
              "        async function convertToInteractive(key) {\n",
              "          const element = document.querySelector('#df-035911cf-c199-419d-8cb0-8d6771e5d773');\n",
              "          const dataTable =\n",
              "            await google.colab.kernel.invokeFunction('convertToInteractive',\n",
              "                                                     [key], {});\n",
              "          if (!dataTable) return;\n",
              "\n",
              "          const docLinkHtml = 'Like what you see? Visit the ' +\n",
              "            '<a target=\"_blank\" href=https://colab.research.google.com/notebooks/data_table.ipynb>data table notebook</a>'\n",
              "            + ' to learn more about interactive tables.';\n",
              "          element.innerHTML = '';\n",
              "          dataTable['output_type'] = 'display_data';\n",
              "          await google.colab.output.renderOutput(dataTable, element);\n",
              "          const docLink = document.createElement('div');\n",
              "          docLink.innerHTML = docLinkHtml;\n",
              "          element.appendChild(docLink);\n",
              "        }\n",
              "      </script>\n",
              "    </div>\n",
              "  </div>\n",
              "  "
            ]
          },
          "metadata": {},
          "execution_count": 6
        }
      ]
    },
    {
      "cell_type": "code",
      "source": [
        "# dropping records of accidents after 2020\n",
        "new_df1.drop(new_df1[new_df1[\"Year\"] > 2020].index, inplace=True)"
      ],
      "metadata": {
        "colab": {
          "base_uri": "https://localhost:8080/"
        },
        "id": "WoazPiZE7TWS",
        "outputId": "d057f836-03df-4c34-97b4-6b1b05907b93"
      },
      "execution_count": 7,
      "outputs": [
        {
          "output_type": "stream",
          "name": "stderr",
          "text": [
            "/usr/local/lib/python3.9/dist-packages/pandas/core/frame.py:4906: SettingWithCopyWarning: \n",
            "A value is trying to be set on a copy of a slice from a DataFrame\n",
            "\n",
            "See the caveats in the documentation: https://pandas.pydata.org/pandas-docs/stable/user_guide/indexing.html#returning-a-view-versus-a-copy\n",
            "  return super().drop(\n"
          ]
        }
      ]
    },
    {
      "cell_type": "code",
      "source": [
        "new_df1.head()"
      ],
      "metadata": {
        "colab": {
          "base_uri": "https://localhost:8080/",
          "height": 204
        },
        "id": "EuEiGDWE7Vfz",
        "outputId": "ef91de90-07e4-44b2-dc07-f6feba871e25"
      },
      "execution_count": 8,
      "outputs": [
        {
          "output_type": "execute_result",
          "data": {
            "text/plain": [
              "          Category Accident-Type  Year   Month  Value\n",
              "25  Alkoholunfälle     insgesamt  2020   Summe  430.0\n",
              "26  Alkoholunfälle     insgesamt  2020  202001   28.0\n",
              "27  Alkoholunfälle     insgesamt  2020  202002   40.0\n",
              "28  Alkoholunfälle     insgesamt  2020  202003   27.0\n",
              "29  Alkoholunfälle     insgesamt  2020  202004   26.0"
            ],
            "text/html": [
              "\n",
              "  <div id=\"df-786ed6d6-1925-4d02-92e8-17f83238375f\">\n",
              "    <div class=\"colab-df-container\">\n",
              "      <div>\n",
              "<style scoped>\n",
              "    .dataframe tbody tr th:only-of-type {\n",
              "        vertical-align: middle;\n",
              "    }\n",
              "\n",
              "    .dataframe tbody tr th {\n",
              "        vertical-align: top;\n",
              "    }\n",
              "\n",
              "    .dataframe thead th {\n",
              "        text-align: right;\n",
              "    }\n",
              "</style>\n",
              "<table border=\"1\" class=\"dataframe\">\n",
              "  <thead>\n",
              "    <tr style=\"text-align: right;\">\n",
              "      <th></th>\n",
              "      <th>Category</th>\n",
              "      <th>Accident-Type</th>\n",
              "      <th>Year</th>\n",
              "      <th>Month</th>\n",
              "      <th>Value</th>\n",
              "    </tr>\n",
              "  </thead>\n",
              "  <tbody>\n",
              "    <tr>\n",
              "      <th>25</th>\n",
              "      <td>Alkoholunfälle</td>\n",
              "      <td>insgesamt</td>\n",
              "      <td>2020</td>\n",
              "      <td>Summe</td>\n",
              "      <td>430.0</td>\n",
              "    </tr>\n",
              "    <tr>\n",
              "      <th>26</th>\n",
              "      <td>Alkoholunfälle</td>\n",
              "      <td>insgesamt</td>\n",
              "      <td>2020</td>\n",
              "      <td>202001</td>\n",
              "      <td>28.0</td>\n",
              "    </tr>\n",
              "    <tr>\n",
              "      <th>27</th>\n",
              "      <td>Alkoholunfälle</td>\n",
              "      <td>insgesamt</td>\n",
              "      <td>2020</td>\n",
              "      <td>202002</td>\n",
              "      <td>40.0</td>\n",
              "    </tr>\n",
              "    <tr>\n",
              "      <th>28</th>\n",
              "      <td>Alkoholunfälle</td>\n",
              "      <td>insgesamt</td>\n",
              "      <td>2020</td>\n",
              "      <td>202003</td>\n",
              "      <td>27.0</td>\n",
              "    </tr>\n",
              "    <tr>\n",
              "      <th>29</th>\n",
              "      <td>Alkoholunfälle</td>\n",
              "      <td>insgesamt</td>\n",
              "      <td>2020</td>\n",
              "      <td>202004</td>\n",
              "      <td>26.0</td>\n",
              "    </tr>\n",
              "  </tbody>\n",
              "</table>\n",
              "</div>\n",
              "      <button class=\"colab-df-convert\" onclick=\"convertToInteractive('df-786ed6d6-1925-4d02-92e8-17f83238375f')\"\n",
              "              title=\"Convert this dataframe to an interactive table.\"\n",
              "              style=\"display:none;\">\n",
              "        \n",
              "  <svg xmlns=\"http://www.w3.org/2000/svg\" height=\"24px\"viewBox=\"0 0 24 24\"\n",
              "       width=\"24px\">\n",
              "    <path d=\"M0 0h24v24H0V0z\" fill=\"none\"/>\n",
              "    <path d=\"M18.56 5.44l.94 2.06.94-2.06 2.06-.94-2.06-.94-.94-2.06-.94 2.06-2.06.94zm-11 1L8.5 8.5l.94-2.06 2.06-.94-2.06-.94L8.5 2.5l-.94 2.06-2.06.94zm10 10l.94 2.06.94-2.06 2.06-.94-2.06-.94-.94-2.06-.94 2.06-2.06.94z\"/><path d=\"M17.41 7.96l-1.37-1.37c-.4-.4-.92-.59-1.43-.59-.52 0-1.04.2-1.43.59L10.3 9.45l-7.72 7.72c-.78.78-.78 2.05 0 2.83L4 21.41c.39.39.9.59 1.41.59.51 0 1.02-.2 1.41-.59l7.78-7.78 2.81-2.81c.8-.78.8-2.07 0-2.86zM5.41 20L4 18.59l7.72-7.72 1.47 1.35L5.41 20z\"/>\n",
              "  </svg>\n",
              "      </button>\n",
              "      \n",
              "  <style>\n",
              "    .colab-df-container {\n",
              "      display:flex;\n",
              "      flex-wrap:wrap;\n",
              "      gap: 12px;\n",
              "    }\n",
              "\n",
              "    .colab-df-convert {\n",
              "      background-color: #E8F0FE;\n",
              "      border: none;\n",
              "      border-radius: 50%;\n",
              "      cursor: pointer;\n",
              "      display: none;\n",
              "      fill: #1967D2;\n",
              "      height: 32px;\n",
              "      padding: 0 0 0 0;\n",
              "      width: 32px;\n",
              "    }\n",
              "\n",
              "    .colab-df-convert:hover {\n",
              "      background-color: #E2EBFA;\n",
              "      box-shadow: 0px 1px 2px rgba(60, 64, 67, 0.3), 0px 1px 3px 1px rgba(60, 64, 67, 0.15);\n",
              "      fill: #174EA6;\n",
              "    }\n",
              "\n",
              "    [theme=dark] .colab-df-convert {\n",
              "      background-color: #3B4455;\n",
              "      fill: #D2E3FC;\n",
              "    }\n",
              "\n",
              "    [theme=dark] .colab-df-convert:hover {\n",
              "      background-color: #434B5C;\n",
              "      box-shadow: 0px 1px 3px 1px rgba(0, 0, 0, 0.15);\n",
              "      filter: drop-shadow(0px 1px 2px rgba(0, 0, 0, 0.3));\n",
              "      fill: #FFFFFF;\n",
              "    }\n",
              "  </style>\n",
              "\n",
              "      <script>\n",
              "        const buttonEl =\n",
              "          document.querySelector('#df-786ed6d6-1925-4d02-92e8-17f83238375f button.colab-df-convert');\n",
              "        buttonEl.style.display =\n",
              "          google.colab.kernel.accessAllowed ? 'block' : 'none';\n",
              "\n",
              "        async function convertToInteractive(key) {\n",
              "          const element = document.querySelector('#df-786ed6d6-1925-4d02-92e8-17f83238375f');\n",
              "          const dataTable =\n",
              "            await google.colab.kernel.invokeFunction('convertToInteractive',\n",
              "                                                     [key], {});\n",
              "          if (!dataTable) return;\n",
              "\n",
              "          const docLinkHtml = 'Like what you see? Visit the ' +\n",
              "            '<a target=\"_blank\" href=https://colab.research.google.com/notebooks/data_table.ipynb>data table notebook</a>'\n",
              "            + ' to learn more about interactive tables.';\n",
              "          element.innerHTML = '';\n",
              "          dataTable['output_type'] = 'display_data';\n",
              "          await google.colab.output.renderOutput(dataTable, element);\n",
              "          const docLink = document.createElement('div');\n",
              "          docLink.innerHTML = docLinkHtml;\n",
              "          element.appendChild(docLink);\n",
              "        }\n",
              "      </script>\n",
              "    </div>\n",
              "  </div>\n",
              "  "
            ]
          },
          "metadata": {},
          "execution_count": 8
        }
      ]
    },
    {
      "cell_type": "code",
      "source": [
        "# dropping columns that contain aggregate values for a year\n",
        "df2 = new_df1[~new_df1[\"Month\"].str.contains(\"Summe\")]\n",
        "df2"
      ],
      "metadata": {
        "colab": {
          "base_uri": "https://localhost:8080/",
          "height": 419
        },
        "id": "BS_PoTBh7Vh7",
        "outputId": "b3cf4be3-340f-4786-bfe9-f119171e8f70"
      },
      "execution_count": 9,
      "outputs": [
        {
          "output_type": "execute_result",
          "data": {
            "text/plain": [
              "             Category           Accident-Type  Year   Month  Value\n",
              "26     Alkoholunfälle               insgesamt  2020  202001   28.0\n",
              "27     Alkoholunfälle               insgesamt  2020  202002   40.0\n",
              "28     Alkoholunfälle               insgesamt  2020  202003   27.0\n",
              "29     Alkoholunfälle               insgesamt  2020  202004   26.0\n",
              "30     Alkoholunfälle               insgesamt  2020  202005   40.0\n",
              "...               ...                     ...   ...     ...    ...\n",
              "2081  Verkehrsunfälle  Verletzte und Getötete  2000  200008  647.0\n",
              "2082  Verkehrsunfälle  Verletzte und Getötete  2000  200009  675.0\n",
              "2083  Verkehrsunfälle  Verletzte und Getötete  2000  200010  615.0\n",
              "2084  Verkehrsunfälle  Verletzte und Getötete  2000  200011  578.0\n",
              "2085  Verkehrsunfälle  Verletzte und Getötete  2000  200012  515.0\n",
              "\n",
              "[1764 rows x 5 columns]"
            ],
            "text/html": [
              "\n",
              "  <div id=\"df-871cdff8-43bb-4583-838d-6b27556f1cee\">\n",
              "    <div class=\"colab-df-container\">\n",
              "      <div>\n",
              "<style scoped>\n",
              "    .dataframe tbody tr th:only-of-type {\n",
              "        vertical-align: middle;\n",
              "    }\n",
              "\n",
              "    .dataframe tbody tr th {\n",
              "        vertical-align: top;\n",
              "    }\n",
              "\n",
              "    .dataframe thead th {\n",
              "        text-align: right;\n",
              "    }\n",
              "</style>\n",
              "<table border=\"1\" class=\"dataframe\">\n",
              "  <thead>\n",
              "    <tr style=\"text-align: right;\">\n",
              "      <th></th>\n",
              "      <th>Category</th>\n",
              "      <th>Accident-Type</th>\n",
              "      <th>Year</th>\n",
              "      <th>Month</th>\n",
              "      <th>Value</th>\n",
              "    </tr>\n",
              "  </thead>\n",
              "  <tbody>\n",
              "    <tr>\n",
              "      <th>26</th>\n",
              "      <td>Alkoholunfälle</td>\n",
              "      <td>insgesamt</td>\n",
              "      <td>2020</td>\n",
              "      <td>202001</td>\n",
              "      <td>28.0</td>\n",
              "    </tr>\n",
              "    <tr>\n",
              "      <th>27</th>\n",
              "      <td>Alkoholunfälle</td>\n",
              "      <td>insgesamt</td>\n",
              "      <td>2020</td>\n",
              "      <td>202002</td>\n",
              "      <td>40.0</td>\n",
              "    </tr>\n",
              "    <tr>\n",
              "      <th>28</th>\n",
              "      <td>Alkoholunfälle</td>\n",
              "      <td>insgesamt</td>\n",
              "      <td>2020</td>\n",
              "      <td>202003</td>\n",
              "      <td>27.0</td>\n",
              "    </tr>\n",
              "    <tr>\n",
              "      <th>29</th>\n",
              "      <td>Alkoholunfälle</td>\n",
              "      <td>insgesamt</td>\n",
              "      <td>2020</td>\n",
              "      <td>202004</td>\n",
              "      <td>26.0</td>\n",
              "    </tr>\n",
              "    <tr>\n",
              "      <th>30</th>\n",
              "      <td>Alkoholunfälle</td>\n",
              "      <td>insgesamt</td>\n",
              "      <td>2020</td>\n",
              "      <td>202005</td>\n",
              "      <td>40.0</td>\n",
              "    </tr>\n",
              "    <tr>\n",
              "      <th>...</th>\n",
              "      <td>...</td>\n",
              "      <td>...</td>\n",
              "      <td>...</td>\n",
              "      <td>...</td>\n",
              "      <td>...</td>\n",
              "    </tr>\n",
              "    <tr>\n",
              "      <th>2081</th>\n",
              "      <td>Verkehrsunfälle</td>\n",
              "      <td>Verletzte und Getötete</td>\n",
              "      <td>2000</td>\n",
              "      <td>200008</td>\n",
              "      <td>647.0</td>\n",
              "    </tr>\n",
              "    <tr>\n",
              "      <th>2082</th>\n",
              "      <td>Verkehrsunfälle</td>\n",
              "      <td>Verletzte und Getötete</td>\n",
              "      <td>2000</td>\n",
              "      <td>200009</td>\n",
              "      <td>675.0</td>\n",
              "    </tr>\n",
              "    <tr>\n",
              "      <th>2083</th>\n",
              "      <td>Verkehrsunfälle</td>\n",
              "      <td>Verletzte und Getötete</td>\n",
              "      <td>2000</td>\n",
              "      <td>200010</td>\n",
              "      <td>615.0</td>\n",
              "    </tr>\n",
              "    <tr>\n",
              "      <th>2084</th>\n",
              "      <td>Verkehrsunfälle</td>\n",
              "      <td>Verletzte und Getötete</td>\n",
              "      <td>2000</td>\n",
              "      <td>200011</td>\n",
              "      <td>578.0</td>\n",
              "    </tr>\n",
              "    <tr>\n",
              "      <th>2085</th>\n",
              "      <td>Verkehrsunfälle</td>\n",
              "      <td>Verletzte und Getötete</td>\n",
              "      <td>2000</td>\n",
              "      <td>200012</td>\n",
              "      <td>515.0</td>\n",
              "    </tr>\n",
              "  </tbody>\n",
              "</table>\n",
              "<p>1764 rows × 5 columns</p>\n",
              "</div>\n",
              "      <button class=\"colab-df-convert\" onclick=\"convertToInteractive('df-871cdff8-43bb-4583-838d-6b27556f1cee')\"\n",
              "              title=\"Convert this dataframe to an interactive table.\"\n",
              "              style=\"display:none;\">\n",
              "        \n",
              "  <svg xmlns=\"http://www.w3.org/2000/svg\" height=\"24px\"viewBox=\"0 0 24 24\"\n",
              "       width=\"24px\">\n",
              "    <path d=\"M0 0h24v24H0V0z\" fill=\"none\"/>\n",
              "    <path d=\"M18.56 5.44l.94 2.06.94-2.06 2.06-.94-2.06-.94-.94-2.06-.94 2.06-2.06.94zm-11 1L8.5 8.5l.94-2.06 2.06-.94-2.06-.94L8.5 2.5l-.94 2.06-2.06.94zm10 10l.94 2.06.94-2.06 2.06-.94-2.06-.94-.94-2.06-.94 2.06-2.06.94z\"/><path d=\"M17.41 7.96l-1.37-1.37c-.4-.4-.92-.59-1.43-.59-.52 0-1.04.2-1.43.59L10.3 9.45l-7.72 7.72c-.78.78-.78 2.05 0 2.83L4 21.41c.39.39.9.59 1.41.59.51 0 1.02-.2 1.41-.59l7.78-7.78 2.81-2.81c.8-.78.8-2.07 0-2.86zM5.41 20L4 18.59l7.72-7.72 1.47 1.35L5.41 20z\"/>\n",
              "  </svg>\n",
              "      </button>\n",
              "      \n",
              "  <style>\n",
              "    .colab-df-container {\n",
              "      display:flex;\n",
              "      flex-wrap:wrap;\n",
              "      gap: 12px;\n",
              "    }\n",
              "\n",
              "    .colab-df-convert {\n",
              "      background-color: #E8F0FE;\n",
              "      border: none;\n",
              "      border-radius: 50%;\n",
              "      cursor: pointer;\n",
              "      display: none;\n",
              "      fill: #1967D2;\n",
              "      height: 32px;\n",
              "      padding: 0 0 0 0;\n",
              "      width: 32px;\n",
              "    }\n",
              "\n",
              "    .colab-df-convert:hover {\n",
              "      background-color: #E2EBFA;\n",
              "      box-shadow: 0px 1px 2px rgba(60, 64, 67, 0.3), 0px 1px 3px 1px rgba(60, 64, 67, 0.15);\n",
              "      fill: #174EA6;\n",
              "    }\n",
              "\n",
              "    [theme=dark] .colab-df-convert {\n",
              "      background-color: #3B4455;\n",
              "      fill: #D2E3FC;\n",
              "    }\n",
              "\n",
              "    [theme=dark] .colab-df-convert:hover {\n",
              "      background-color: #434B5C;\n",
              "      box-shadow: 0px 1px 3px 1px rgba(0, 0, 0, 0.15);\n",
              "      filter: drop-shadow(0px 1px 2px rgba(0, 0, 0, 0.3));\n",
              "      fill: #FFFFFF;\n",
              "    }\n",
              "  </style>\n",
              "\n",
              "      <script>\n",
              "        const buttonEl =\n",
              "          document.querySelector('#df-871cdff8-43bb-4583-838d-6b27556f1cee button.colab-df-convert');\n",
              "        buttonEl.style.display =\n",
              "          google.colab.kernel.accessAllowed ? 'block' : 'none';\n",
              "\n",
              "        async function convertToInteractive(key) {\n",
              "          const element = document.querySelector('#df-871cdff8-43bb-4583-838d-6b27556f1cee');\n",
              "          const dataTable =\n",
              "            await google.colab.kernel.invokeFunction('convertToInteractive',\n",
              "                                                     [key], {});\n",
              "          if (!dataTable) return;\n",
              "\n",
              "          const docLinkHtml = 'Like what you see? Visit the ' +\n",
              "            '<a target=\"_blank\" href=https://colab.research.google.com/notebooks/data_table.ipynb>data table notebook</a>'\n",
              "            + ' to learn more about interactive tables.';\n",
              "          element.innerHTML = '';\n",
              "          dataTable['output_type'] = 'display_data';\n",
              "          await google.colab.output.renderOutput(dataTable, element);\n",
              "          const docLink = document.createElement('div');\n",
              "          docLink.innerHTML = docLinkHtml;\n",
              "          element.appendChild(docLink);\n",
              "        }\n",
              "      </script>\n",
              "    </div>\n",
              "  </div>\n",
              "  "
            ]
          },
          "metadata": {},
          "execution_count": 9
        }
      ]
    },
    {
      "cell_type": "code",
      "source": [
        "df2.loc[df2[\"Month\"].str.isnumeric(), \"Month\"] = df2.loc[df2[\"Month\"].str.isnumeric(), \"Month\"].astype(str).str[-2:]\n",
        "df2"
      ],
      "metadata": {
        "colab": {
          "base_uri": "https://localhost:8080/",
          "height": 541
        },
        "id": "FzsCZ-e_7VkA",
        "outputId": "a54ef13d-b2e4-4fa5-8b16-3144d0443e84"
      },
      "execution_count": 10,
      "outputs": [
        {
          "output_type": "stream",
          "name": "stderr",
          "text": [
            "/usr/local/lib/python3.9/dist-packages/pandas/core/indexing.py:1773: SettingWithCopyWarning: \n",
            "A value is trying to be set on a copy of a slice from a DataFrame.\n",
            "Try using .loc[row_indexer,col_indexer] = value instead\n",
            "\n",
            "See the caveats in the documentation: https://pandas.pydata.org/pandas-docs/stable/user_guide/indexing.html#returning-a-view-versus-a-copy\n",
            "  self._setitem_single_column(ilocs[0], value, pi)\n"
          ]
        },
        {
          "output_type": "execute_result",
          "data": {
            "text/plain": [
              "             Category           Accident-Type  Year Month  Value\n",
              "26     Alkoholunfälle               insgesamt  2020    01   28.0\n",
              "27     Alkoholunfälle               insgesamt  2020    02   40.0\n",
              "28     Alkoholunfälle               insgesamt  2020    03   27.0\n",
              "29     Alkoholunfälle               insgesamt  2020    04   26.0\n",
              "30     Alkoholunfälle               insgesamt  2020    05   40.0\n",
              "...               ...                     ...   ...   ...    ...\n",
              "2081  Verkehrsunfälle  Verletzte und Getötete  2000    08  647.0\n",
              "2082  Verkehrsunfälle  Verletzte und Getötete  2000    09  675.0\n",
              "2083  Verkehrsunfälle  Verletzte und Getötete  2000    10  615.0\n",
              "2084  Verkehrsunfälle  Verletzte und Getötete  2000    11  578.0\n",
              "2085  Verkehrsunfälle  Verletzte und Getötete  2000    12  515.0\n",
              "\n",
              "[1764 rows x 5 columns]"
            ],
            "text/html": [
              "\n",
              "  <div id=\"df-9105819e-4616-4eb3-adef-b530c4de0f78\">\n",
              "    <div class=\"colab-df-container\">\n",
              "      <div>\n",
              "<style scoped>\n",
              "    .dataframe tbody tr th:only-of-type {\n",
              "        vertical-align: middle;\n",
              "    }\n",
              "\n",
              "    .dataframe tbody tr th {\n",
              "        vertical-align: top;\n",
              "    }\n",
              "\n",
              "    .dataframe thead th {\n",
              "        text-align: right;\n",
              "    }\n",
              "</style>\n",
              "<table border=\"1\" class=\"dataframe\">\n",
              "  <thead>\n",
              "    <tr style=\"text-align: right;\">\n",
              "      <th></th>\n",
              "      <th>Category</th>\n",
              "      <th>Accident-Type</th>\n",
              "      <th>Year</th>\n",
              "      <th>Month</th>\n",
              "      <th>Value</th>\n",
              "    </tr>\n",
              "  </thead>\n",
              "  <tbody>\n",
              "    <tr>\n",
              "      <th>26</th>\n",
              "      <td>Alkoholunfälle</td>\n",
              "      <td>insgesamt</td>\n",
              "      <td>2020</td>\n",
              "      <td>01</td>\n",
              "      <td>28.0</td>\n",
              "    </tr>\n",
              "    <tr>\n",
              "      <th>27</th>\n",
              "      <td>Alkoholunfälle</td>\n",
              "      <td>insgesamt</td>\n",
              "      <td>2020</td>\n",
              "      <td>02</td>\n",
              "      <td>40.0</td>\n",
              "    </tr>\n",
              "    <tr>\n",
              "      <th>28</th>\n",
              "      <td>Alkoholunfälle</td>\n",
              "      <td>insgesamt</td>\n",
              "      <td>2020</td>\n",
              "      <td>03</td>\n",
              "      <td>27.0</td>\n",
              "    </tr>\n",
              "    <tr>\n",
              "      <th>29</th>\n",
              "      <td>Alkoholunfälle</td>\n",
              "      <td>insgesamt</td>\n",
              "      <td>2020</td>\n",
              "      <td>04</td>\n",
              "      <td>26.0</td>\n",
              "    </tr>\n",
              "    <tr>\n",
              "      <th>30</th>\n",
              "      <td>Alkoholunfälle</td>\n",
              "      <td>insgesamt</td>\n",
              "      <td>2020</td>\n",
              "      <td>05</td>\n",
              "      <td>40.0</td>\n",
              "    </tr>\n",
              "    <tr>\n",
              "      <th>...</th>\n",
              "      <td>...</td>\n",
              "      <td>...</td>\n",
              "      <td>...</td>\n",
              "      <td>...</td>\n",
              "      <td>...</td>\n",
              "    </tr>\n",
              "    <tr>\n",
              "      <th>2081</th>\n",
              "      <td>Verkehrsunfälle</td>\n",
              "      <td>Verletzte und Getötete</td>\n",
              "      <td>2000</td>\n",
              "      <td>08</td>\n",
              "      <td>647.0</td>\n",
              "    </tr>\n",
              "    <tr>\n",
              "      <th>2082</th>\n",
              "      <td>Verkehrsunfälle</td>\n",
              "      <td>Verletzte und Getötete</td>\n",
              "      <td>2000</td>\n",
              "      <td>09</td>\n",
              "      <td>675.0</td>\n",
              "    </tr>\n",
              "    <tr>\n",
              "      <th>2083</th>\n",
              "      <td>Verkehrsunfälle</td>\n",
              "      <td>Verletzte und Getötete</td>\n",
              "      <td>2000</td>\n",
              "      <td>10</td>\n",
              "      <td>615.0</td>\n",
              "    </tr>\n",
              "    <tr>\n",
              "      <th>2084</th>\n",
              "      <td>Verkehrsunfälle</td>\n",
              "      <td>Verletzte und Getötete</td>\n",
              "      <td>2000</td>\n",
              "      <td>11</td>\n",
              "      <td>578.0</td>\n",
              "    </tr>\n",
              "    <tr>\n",
              "      <th>2085</th>\n",
              "      <td>Verkehrsunfälle</td>\n",
              "      <td>Verletzte und Getötete</td>\n",
              "      <td>2000</td>\n",
              "      <td>12</td>\n",
              "      <td>515.0</td>\n",
              "    </tr>\n",
              "  </tbody>\n",
              "</table>\n",
              "<p>1764 rows × 5 columns</p>\n",
              "</div>\n",
              "      <button class=\"colab-df-convert\" onclick=\"convertToInteractive('df-9105819e-4616-4eb3-adef-b530c4de0f78')\"\n",
              "              title=\"Convert this dataframe to an interactive table.\"\n",
              "              style=\"display:none;\">\n",
              "        \n",
              "  <svg xmlns=\"http://www.w3.org/2000/svg\" height=\"24px\"viewBox=\"0 0 24 24\"\n",
              "       width=\"24px\">\n",
              "    <path d=\"M0 0h24v24H0V0z\" fill=\"none\"/>\n",
              "    <path d=\"M18.56 5.44l.94 2.06.94-2.06 2.06-.94-2.06-.94-.94-2.06-.94 2.06-2.06.94zm-11 1L8.5 8.5l.94-2.06 2.06-.94-2.06-.94L8.5 2.5l-.94 2.06-2.06.94zm10 10l.94 2.06.94-2.06 2.06-.94-2.06-.94-.94-2.06-.94 2.06-2.06.94z\"/><path d=\"M17.41 7.96l-1.37-1.37c-.4-.4-.92-.59-1.43-.59-.52 0-1.04.2-1.43.59L10.3 9.45l-7.72 7.72c-.78.78-.78 2.05 0 2.83L4 21.41c.39.39.9.59 1.41.59.51 0 1.02-.2 1.41-.59l7.78-7.78 2.81-2.81c.8-.78.8-2.07 0-2.86zM5.41 20L4 18.59l7.72-7.72 1.47 1.35L5.41 20z\"/>\n",
              "  </svg>\n",
              "      </button>\n",
              "      \n",
              "  <style>\n",
              "    .colab-df-container {\n",
              "      display:flex;\n",
              "      flex-wrap:wrap;\n",
              "      gap: 12px;\n",
              "    }\n",
              "\n",
              "    .colab-df-convert {\n",
              "      background-color: #E8F0FE;\n",
              "      border: none;\n",
              "      border-radius: 50%;\n",
              "      cursor: pointer;\n",
              "      display: none;\n",
              "      fill: #1967D2;\n",
              "      height: 32px;\n",
              "      padding: 0 0 0 0;\n",
              "      width: 32px;\n",
              "    }\n",
              "\n",
              "    .colab-df-convert:hover {\n",
              "      background-color: #E2EBFA;\n",
              "      box-shadow: 0px 1px 2px rgba(60, 64, 67, 0.3), 0px 1px 3px 1px rgba(60, 64, 67, 0.15);\n",
              "      fill: #174EA6;\n",
              "    }\n",
              "\n",
              "    [theme=dark] .colab-df-convert {\n",
              "      background-color: #3B4455;\n",
              "      fill: #D2E3FC;\n",
              "    }\n",
              "\n",
              "    [theme=dark] .colab-df-convert:hover {\n",
              "      background-color: #434B5C;\n",
              "      box-shadow: 0px 1px 3px 1px rgba(0, 0, 0, 0.15);\n",
              "      filter: drop-shadow(0px 1px 2px rgba(0, 0, 0, 0.3));\n",
              "      fill: #FFFFFF;\n",
              "    }\n",
              "  </style>\n",
              "\n",
              "      <script>\n",
              "        const buttonEl =\n",
              "          document.querySelector('#df-9105819e-4616-4eb3-adef-b530c4de0f78 button.colab-df-convert');\n",
              "        buttonEl.style.display =\n",
              "          google.colab.kernel.accessAllowed ? 'block' : 'none';\n",
              "\n",
              "        async function convertToInteractive(key) {\n",
              "          const element = document.querySelector('#df-9105819e-4616-4eb3-adef-b530c4de0f78');\n",
              "          const dataTable =\n",
              "            await google.colab.kernel.invokeFunction('convertToInteractive',\n",
              "                                                     [key], {});\n",
              "          if (!dataTable) return;\n",
              "\n",
              "          const docLinkHtml = 'Like what you see? Visit the ' +\n",
              "            '<a target=\"_blank\" href=https://colab.research.google.com/notebooks/data_table.ipynb>data table notebook</a>'\n",
              "            + ' to learn more about interactive tables.';\n",
              "          element.innerHTML = '';\n",
              "          dataTable['output_type'] = 'display_data';\n",
              "          await google.colab.output.renderOutput(dataTable, element);\n",
              "          const docLink = document.createElement('div');\n",
              "          docLink.innerHTML = docLinkHtml;\n",
              "          element.appendChild(docLink);\n",
              "        }\n",
              "      </script>\n",
              "    </div>\n",
              "  </div>\n",
              "  "
            ]
          },
          "metadata": {},
          "execution_count": 10
        }
      ]
    },
    {
      "cell_type": "code",
      "source": [
        "print(df2[\"Month\"].dtypes)"
      ],
      "metadata": {
        "colab": {
          "base_uri": "https://localhost:8080/"
        },
        "id": "zxzOmtBi7hN2",
        "outputId": "6a20bc85-06df-40ce-e32f-c60231a3a892"
      },
      "execution_count": 11,
      "outputs": [
        {
          "output_type": "stream",
          "name": "stdout",
          "text": [
            "object\n"
          ]
        }
      ]
    },
    {
      "cell_type": "code",
      "source": [
        "df2['Month'] = df2['Month'].astype(int)\n",
        "df2"
      ],
      "metadata": {
        "colab": {
          "base_uri": "https://localhost:8080/",
          "height": 541
        },
        "id": "koQP3Pa87VmJ",
        "outputId": "0cee64c1-77b9-41f8-ab71-b2ea116625cf"
      },
      "execution_count": 12,
      "outputs": [
        {
          "output_type": "stream",
          "name": "stderr",
          "text": [
            "<ipython-input-12-f1b50d7b9a0b>:1: SettingWithCopyWarning: \n",
            "A value is trying to be set on a copy of a slice from a DataFrame.\n",
            "Try using .loc[row_indexer,col_indexer] = value instead\n",
            "\n",
            "See the caveats in the documentation: https://pandas.pydata.org/pandas-docs/stable/user_guide/indexing.html#returning-a-view-versus-a-copy\n",
            "  df2['Month'] = df2['Month'].astype(int)\n"
          ]
        },
        {
          "output_type": "execute_result",
          "data": {
            "text/plain": [
              "             Category           Accident-Type  Year  Month  Value\n",
              "26     Alkoholunfälle               insgesamt  2020      1   28.0\n",
              "27     Alkoholunfälle               insgesamt  2020      2   40.0\n",
              "28     Alkoholunfälle               insgesamt  2020      3   27.0\n",
              "29     Alkoholunfälle               insgesamt  2020      4   26.0\n",
              "30     Alkoholunfälle               insgesamt  2020      5   40.0\n",
              "...               ...                     ...   ...    ...    ...\n",
              "2081  Verkehrsunfälle  Verletzte und Getötete  2000      8  647.0\n",
              "2082  Verkehrsunfälle  Verletzte und Getötete  2000      9  675.0\n",
              "2083  Verkehrsunfälle  Verletzte und Getötete  2000     10  615.0\n",
              "2084  Verkehrsunfälle  Verletzte und Getötete  2000     11  578.0\n",
              "2085  Verkehrsunfälle  Verletzte und Getötete  2000     12  515.0\n",
              "\n",
              "[1764 rows x 5 columns]"
            ],
            "text/html": [
              "\n",
              "  <div id=\"df-f9cb8599-1ecd-4398-96b6-b576f538d592\">\n",
              "    <div class=\"colab-df-container\">\n",
              "      <div>\n",
              "<style scoped>\n",
              "    .dataframe tbody tr th:only-of-type {\n",
              "        vertical-align: middle;\n",
              "    }\n",
              "\n",
              "    .dataframe tbody tr th {\n",
              "        vertical-align: top;\n",
              "    }\n",
              "\n",
              "    .dataframe thead th {\n",
              "        text-align: right;\n",
              "    }\n",
              "</style>\n",
              "<table border=\"1\" class=\"dataframe\">\n",
              "  <thead>\n",
              "    <tr style=\"text-align: right;\">\n",
              "      <th></th>\n",
              "      <th>Category</th>\n",
              "      <th>Accident-Type</th>\n",
              "      <th>Year</th>\n",
              "      <th>Month</th>\n",
              "      <th>Value</th>\n",
              "    </tr>\n",
              "  </thead>\n",
              "  <tbody>\n",
              "    <tr>\n",
              "      <th>26</th>\n",
              "      <td>Alkoholunfälle</td>\n",
              "      <td>insgesamt</td>\n",
              "      <td>2020</td>\n",
              "      <td>1</td>\n",
              "      <td>28.0</td>\n",
              "    </tr>\n",
              "    <tr>\n",
              "      <th>27</th>\n",
              "      <td>Alkoholunfälle</td>\n",
              "      <td>insgesamt</td>\n",
              "      <td>2020</td>\n",
              "      <td>2</td>\n",
              "      <td>40.0</td>\n",
              "    </tr>\n",
              "    <tr>\n",
              "      <th>28</th>\n",
              "      <td>Alkoholunfälle</td>\n",
              "      <td>insgesamt</td>\n",
              "      <td>2020</td>\n",
              "      <td>3</td>\n",
              "      <td>27.0</td>\n",
              "    </tr>\n",
              "    <tr>\n",
              "      <th>29</th>\n",
              "      <td>Alkoholunfälle</td>\n",
              "      <td>insgesamt</td>\n",
              "      <td>2020</td>\n",
              "      <td>4</td>\n",
              "      <td>26.0</td>\n",
              "    </tr>\n",
              "    <tr>\n",
              "      <th>30</th>\n",
              "      <td>Alkoholunfälle</td>\n",
              "      <td>insgesamt</td>\n",
              "      <td>2020</td>\n",
              "      <td>5</td>\n",
              "      <td>40.0</td>\n",
              "    </tr>\n",
              "    <tr>\n",
              "      <th>...</th>\n",
              "      <td>...</td>\n",
              "      <td>...</td>\n",
              "      <td>...</td>\n",
              "      <td>...</td>\n",
              "      <td>...</td>\n",
              "    </tr>\n",
              "    <tr>\n",
              "      <th>2081</th>\n",
              "      <td>Verkehrsunfälle</td>\n",
              "      <td>Verletzte und Getötete</td>\n",
              "      <td>2000</td>\n",
              "      <td>8</td>\n",
              "      <td>647.0</td>\n",
              "    </tr>\n",
              "    <tr>\n",
              "      <th>2082</th>\n",
              "      <td>Verkehrsunfälle</td>\n",
              "      <td>Verletzte und Getötete</td>\n",
              "      <td>2000</td>\n",
              "      <td>9</td>\n",
              "      <td>675.0</td>\n",
              "    </tr>\n",
              "    <tr>\n",
              "      <th>2083</th>\n",
              "      <td>Verkehrsunfälle</td>\n",
              "      <td>Verletzte und Getötete</td>\n",
              "      <td>2000</td>\n",
              "      <td>10</td>\n",
              "      <td>615.0</td>\n",
              "    </tr>\n",
              "    <tr>\n",
              "      <th>2084</th>\n",
              "      <td>Verkehrsunfälle</td>\n",
              "      <td>Verletzte und Getötete</td>\n",
              "      <td>2000</td>\n",
              "      <td>11</td>\n",
              "      <td>578.0</td>\n",
              "    </tr>\n",
              "    <tr>\n",
              "      <th>2085</th>\n",
              "      <td>Verkehrsunfälle</td>\n",
              "      <td>Verletzte und Getötete</td>\n",
              "      <td>2000</td>\n",
              "      <td>12</td>\n",
              "      <td>515.0</td>\n",
              "    </tr>\n",
              "  </tbody>\n",
              "</table>\n",
              "<p>1764 rows × 5 columns</p>\n",
              "</div>\n",
              "      <button class=\"colab-df-convert\" onclick=\"convertToInteractive('df-f9cb8599-1ecd-4398-96b6-b576f538d592')\"\n",
              "              title=\"Convert this dataframe to an interactive table.\"\n",
              "              style=\"display:none;\">\n",
              "        \n",
              "  <svg xmlns=\"http://www.w3.org/2000/svg\" height=\"24px\"viewBox=\"0 0 24 24\"\n",
              "       width=\"24px\">\n",
              "    <path d=\"M0 0h24v24H0V0z\" fill=\"none\"/>\n",
              "    <path d=\"M18.56 5.44l.94 2.06.94-2.06 2.06-.94-2.06-.94-.94-2.06-.94 2.06-2.06.94zm-11 1L8.5 8.5l.94-2.06 2.06-.94-2.06-.94L8.5 2.5l-.94 2.06-2.06.94zm10 10l.94 2.06.94-2.06 2.06-.94-2.06-.94-.94-2.06-.94 2.06-2.06.94z\"/><path d=\"M17.41 7.96l-1.37-1.37c-.4-.4-.92-.59-1.43-.59-.52 0-1.04.2-1.43.59L10.3 9.45l-7.72 7.72c-.78.78-.78 2.05 0 2.83L4 21.41c.39.39.9.59 1.41.59.51 0 1.02-.2 1.41-.59l7.78-7.78 2.81-2.81c.8-.78.8-2.07 0-2.86zM5.41 20L4 18.59l7.72-7.72 1.47 1.35L5.41 20z\"/>\n",
              "  </svg>\n",
              "      </button>\n",
              "      \n",
              "  <style>\n",
              "    .colab-df-container {\n",
              "      display:flex;\n",
              "      flex-wrap:wrap;\n",
              "      gap: 12px;\n",
              "    }\n",
              "\n",
              "    .colab-df-convert {\n",
              "      background-color: #E8F0FE;\n",
              "      border: none;\n",
              "      border-radius: 50%;\n",
              "      cursor: pointer;\n",
              "      display: none;\n",
              "      fill: #1967D2;\n",
              "      height: 32px;\n",
              "      padding: 0 0 0 0;\n",
              "      width: 32px;\n",
              "    }\n",
              "\n",
              "    .colab-df-convert:hover {\n",
              "      background-color: #E2EBFA;\n",
              "      box-shadow: 0px 1px 2px rgba(60, 64, 67, 0.3), 0px 1px 3px 1px rgba(60, 64, 67, 0.15);\n",
              "      fill: #174EA6;\n",
              "    }\n",
              "\n",
              "    [theme=dark] .colab-df-convert {\n",
              "      background-color: #3B4455;\n",
              "      fill: #D2E3FC;\n",
              "    }\n",
              "\n",
              "    [theme=dark] .colab-df-convert:hover {\n",
              "      background-color: #434B5C;\n",
              "      box-shadow: 0px 1px 3px 1px rgba(0, 0, 0, 0.15);\n",
              "      filter: drop-shadow(0px 1px 2px rgba(0, 0, 0, 0.3));\n",
              "      fill: #FFFFFF;\n",
              "    }\n",
              "  </style>\n",
              "\n",
              "      <script>\n",
              "        const buttonEl =\n",
              "          document.querySelector('#df-f9cb8599-1ecd-4398-96b6-b576f538d592 button.colab-df-convert');\n",
              "        buttonEl.style.display =\n",
              "          google.colab.kernel.accessAllowed ? 'block' : 'none';\n",
              "\n",
              "        async function convertToInteractive(key) {\n",
              "          const element = document.querySelector('#df-f9cb8599-1ecd-4398-96b6-b576f538d592');\n",
              "          const dataTable =\n",
              "            await google.colab.kernel.invokeFunction('convertToInteractive',\n",
              "                                                     [key], {});\n",
              "          if (!dataTable) return;\n",
              "\n",
              "          const docLinkHtml = 'Like what you see? Visit the ' +\n",
              "            '<a target=\"_blank\" href=https://colab.research.google.com/notebooks/data_table.ipynb>data table notebook</a>'\n",
              "            + ' to learn more about interactive tables.';\n",
              "          element.innerHTML = '';\n",
              "          dataTable['output_type'] = 'display_data';\n",
              "          await google.colab.output.renderOutput(dataTable, element);\n",
              "          const docLink = document.createElement('div');\n",
              "          docLink.innerHTML = docLinkHtml;\n",
              "          element.appendChild(docLink);\n",
              "        }\n",
              "      </script>\n",
              "    </div>\n",
              "  </div>\n",
              "  "
            ]
          },
          "metadata": {},
          "execution_count": 12
        }
      ]
    },
    {
      "cell_type": "code",
      "source": [
        "df2['Date'] = pd.to_datetime(df2['Year'].astype(str) + df2['Month'].astype(str), format='%Y%m')\n",
        "df2"
      ],
      "metadata": {
        "colab": {
          "base_uri": "https://localhost:8080/",
          "height": 541
        },
        "id": "WhmFoO5AmWRx",
        "outputId": "029797cf-260f-4cb5-faf5-3f8d6c690b84"
      },
      "execution_count": 13,
      "outputs": [
        {
          "output_type": "stream",
          "name": "stderr",
          "text": [
            "<ipython-input-13-19d5d463617a>:1: SettingWithCopyWarning: \n",
            "A value is trying to be set on a copy of a slice from a DataFrame.\n",
            "Try using .loc[row_indexer,col_indexer] = value instead\n",
            "\n",
            "See the caveats in the documentation: https://pandas.pydata.org/pandas-docs/stable/user_guide/indexing.html#returning-a-view-versus-a-copy\n",
            "  df2['Date'] = pd.to_datetime(df2['Year'].astype(str) + df2['Month'].astype(str), format='%Y%m')\n"
          ]
        },
        {
          "output_type": "execute_result",
          "data": {
            "text/plain": [
              "             Category           Accident-Type  Year  Month  Value       Date\n",
              "26     Alkoholunfälle               insgesamt  2020      1   28.0 2020-01-01\n",
              "27     Alkoholunfälle               insgesamt  2020      2   40.0 2020-02-01\n",
              "28     Alkoholunfälle               insgesamt  2020      3   27.0 2020-03-01\n",
              "29     Alkoholunfälle               insgesamt  2020      4   26.0 2020-04-01\n",
              "30     Alkoholunfälle               insgesamt  2020      5   40.0 2020-05-01\n",
              "...               ...                     ...   ...    ...    ...        ...\n",
              "2081  Verkehrsunfälle  Verletzte und Getötete  2000      8  647.0 2000-08-01\n",
              "2082  Verkehrsunfälle  Verletzte und Getötete  2000      9  675.0 2000-09-01\n",
              "2083  Verkehrsunfälle  Verletzte und Getötete  2000     10  615.0 2000-10-01\n",
              "2084  Verkehrsunfälle  Verletzte und Getötete  2000     11  578.0 2000-11-01\n",
              "2085  Verkehrsunfälle  Verletzte und Getötete  2000     12  515.0 2000-12-01\n",
              "\n",
              "[1764 rows x 6 columns]"
            ],
            "text/html": [
              "\n",
              "  <div id=\"df-ba3e6a48-073e-4d57-9507-d2f6a1abd813\">\n",
              "    <div class=\"colab-df-container\">\n",
              "      <div>\n",
              "<style scoped>\n",
              "    .dataframe tbody tr th:only-of-type {\n",
              "        vertical-align: middle;\n",
              "    }\n",
              "\n",
              "    .dataframe tbody tr th {\n",
              "        vertical-align: top;\n",
              "    }\n",
              "\n",
              "    .dataframe thead th {\n",
              "        text-align: right;\n",
              "    }\n",
              "</style>\n",
              "<table border=\"1\" class=\"dataframe\">\n",
              "  <thead>\n",
              "    <tr style=\"text-align: right;\">\n",
              "      <th></th>\n",
              "      <th>Category</th>\n",
              "      <th>Accident-Type</th>\n",
              "      <th>Year</th>\n",
              "      <th>Month</th>\n",
              "      <th>Value</th>\n",
              "      <th>Date</th>\n",
              "    </tr>\n",
              "  </thead>\n",
              "  <tbody>\n",
              "    <tr>\n",
              "      <th>26</th>\n",
              "      <td>Alkoholunfälle</td>\n",
              "      <td>insgesamt</td>\n",
              "      <td>2020</td>\n",
              "      <td>1</td>\n",
              "      <td>28.0</td>\n",
              "      <td>2020-01-01</td>\n",
              "    </tr>\n",
              "    <tr>\n",
              "      <th>27</th>\n",
              "      <td>Alkoholunfälle</td>\n",
              "      <td>insgesamt</td>\n",
              "      <td>2020</td>\n",
              "      <td>2</td>\n",
              "      <td>40.0</td>\n",
              "      <td>2020-02-01</td>\n",
              "    </tr>\n",
              "    <tr>\n",
              "      <th>28</th>\n",
              "      <td>Alkoholunfälle</td>\n",
              "      <td>insgesamt</td>\n",
              "      <td>2020</td>\n",
              "      <td>3</td>\n",
              "      <td>27.0</td>\n",
              "      <td>2020-03-01</td>\n",
              "    </tr>\n",
              "    <tr>\n",
              "      <th>29</th>\n",
              "      <td>Alkoholunfälle</td>\n",
              "      <td>insgesamt</td>\n",
              "      <td>2020</td>\n",
              "      <td>4</td>\n",
              "      <td>26.0</td>\n",
              "      <td>2020-04-01</td>\n",
              "    </tr>\n",
              "    <tr>\n",
              "      <th>30</th>\n",
              "      <td>Alkoholunfälle</td>\n",
              "      <td>insgesamt</td>\n",
              "      <td>2020</td>\n",
              "      <td>5</td>\n",
              "      <td>40.0</td>\n",
              "      <td>2020-05-01</td>\n",
              "    </tr>\n",
              "    <tr>\n",
              "      <th>...</th>\n",
              "      <td>...</td>\n",
              "      <td>...</td>\n",
              "      <td>...</td>\n",
              "      <td>...</td>\n",
              "      <td>...</td>\n",
              "      <td>...</td>\n",
              "    </tr>\n",
              "    <tr>\n",
              "      <th>2081</th>\n",
              "      <td>Verkehrsunfälle</td>\n",
              "      <td>Verletzte und Getötete</td>\n",
              "      <td>2000</td>\n",
              "      <td>8</td>\n",
              "      <td>647.0</td>\n",
              "      <td>2000-08-01</td>\n",
              "    </tr>\n",
              "    <tr>\n",
              "      <th>2082</th>\n",
              "      <td>Verkehrsunfälle</td>\n",
              "      <td>Verletzte und Getötete</td>\n",
              "      <td>2000</td>\n",
              "      <td>9</td>\n",
              "      <td>675.0</td>\n",
              "      <td>2000-09-01</td>\n",
              "    </tr>\n",
              "    <tr>\n",
              "      <th>2083</th>\n",
              "      <td>Verkehrsunfälle</td>\n",
              "      <td>Verletzte und Getötete</td>\n",
              "      <td>2000</td>\n",
              "      <td>10</td>\n",
              "      <td>615.0</td>\n",
              "      <td>2000-10-01</td>\n",
              "    </tr>\n",
              "    <tr>\n",
              "      <th>2084</th>\n",
              "      <td>Verkehrsunfälle</td>\n",
              "      <td>Verletzte und Getötete</td>\n",
              "      <td>2000</td>\n",
              "      <td>11</td>\n",
              "      <td>578.0</td>\n",
              "      <td>2000-11-01</td>\n",
              "    </tr>\n",
              "    <tr>\n",
              "      <th>2085</th>\n",
              "      <td>Verkehrsunfälle</td>\n",
              "      <td>Verletzte und Getötete</td>\n",
              "      <td>2000</td>\n",
              "      <td>12</td>\n",
              "      <td>515.0</td>\n",
              "      <td>2000-12-01</td>\n",
              "    </tr>\n",
              "  </tbody>\n",
              "</table>\n",
              "<p>1764 rows × 6 columns</p>\n",
              "</div>\n",
              "      <button class=\"colab-df-convert\" onclick=\"convertToInteractive('df-ba3e6a48-073e-4d57-9507-d2f6a1abd813')\"\n",
              "              title=\"Convert this dataframe to an interactive table.\"\n",
              "              style=\"display:none;\">\n",
              "        \n",
              "  <svg xmlns=\"http://www.w3.org/2000/svg\" height=\"24px\"viewBox=\"0 0 24 24\"\n",
              "       width=\"24px\">\n",
              "    <path d=\"M0 0h24v24H0V0z\" fill=\"none\"/>\n",
              "    <path d=\"M18.56 5.44l.94 2.06.94-2.06 2.06-.94-2.06-.94-.94-2.06-.94 2.06-2.06.94zm-11 1L8.5 8.5l.94-2.06 2.06-.94-2.06-.94L8.5 2.5l-.94 2.06-2.06.94zm10 10l.94 2.06.94-2.06 2.06-.94-2.06-.94-.94-2.06-.94 2.06-2.06.94z\"/><path d=\"M17.41 7.96l-1.37-1.37c-.4-.4-.92-.59-1.43-.59-.52 0-1.04.2-1.43.59L10.3 9.45l-7.72 7.72c-.78.78-.78 2.05 0 2.83L4 21.41c.39.39.9.59 1.41.59.51 0 1.02-.2 1.41-.59l7.78-7.78 2.81-2.81c.8-.78.8-2.07 0-2.86zM5.41 20L4 18.59l7.72-7.72 1.47 1.35L5.41 20z\"/>\n",
              "  </svg>\n",
              "      </button>\n",
              "      \n",
              "  <style>\n",
              "    .colab-df-container {\n",
              "      display:flex;\n",
              "      flex-wrap:wrap;\n",
              "      gap: 12px;\n",
              "    }\n",
              "\n",
              "    .colab-df-convert {\n",
              "      background-color: #E8F0FE;\n",
              "      border: none;\n",
              "      border-radius: 50%;\n",
              "      cursor: pointer;\n",
              "      display: none;\n",
              "      fill: #1967D2;\n",
              "      height: 32px;\n",
              "      padding: 0 0 0 0;\n",
              "      width: 32px;\n",
              "    }\n",
              "\n",
              "    .colab-df-convert:hover {\n",
              "      background-color: #E2EBFA;\n",
              "      box-shadow: 0px 1px 2px rgba(60, 64, 67, 0.3), 0px 1px 3px 1px rgba(60, 64, 67, 0.15);\n",
              "      fill: #174EA6;\n",
              "    }\n",
              "\n",
              "    [theme=dark] .colab-df-convert {\n",
              "      background-color: #3B4455;\n",
              "      fill: #D2E3FC;\n",
              "    }\n",
              "\n",
              "    [theme=dark] .colab-df-convert:hover {\n",
              "      background-color: #434B5C;\n",
              "      box-shadow: 0px 1px 3px 1px rgba(0, 0, 0, 0.15);\n",
              "      filter: drop-shadow(0px 1px 2px rgba(0, 0, 0, 0.3));\n",
              "      fill: #FFFFFF;\n",
              "    }\n",
              "  </style>\n",
              "\n",
              "      <script>\n",
              "        const buttonEl =\n",
              "          document.querySelector('#df-ba3e6a48-073e-4d57-9507-d2f6a1abd813 button.colab-df-convert');\n",
              "        buttonEl.style.display =\n",
              "          google.colab.kernel.accessAllowed ? 'block' : 'none';\n",
              "\n",
              "        async function convertToInteractive(key) {\n",
              "          const element = document.querySelector('#df-ba3e6a48-073e-4d57-9507-d2f6a1abd813');\n",
              "          const dataTable =\n",
              "            await google.colab.kernel.invokeFunction('convertToInteractive',\n",
              "                                                     [key], {});\n",
              "          if (!dataTable) return;\n",
              "\n",
              "          const docLinkHtml = 'Like what you see? Visit the ' +\n",
              "            '<a target=\"_blank\" href=https://colab.research.google.com/notebooks/data_table.ipynb>data table notebook</a>'\n",
              "            + ' to learn more about interactive tables.';\n",
              "          element.innerHTML = '';\n",
              "          dataTable['output_type'] = 'display_data';\n",
              "          await google.colab.output.renderOutput(dataTable, element);\n",
              "          const docLink = document.createElement('div');\n",
              "          docLink.innerHTML = docLinkHtml;\n",
              "          element.appendChild(docLink);\n",
              "        }\n",
              "      </script>\n",
              "    </div>\n",
              "  </div>\n",
              "  "
            ]
          },
          "metadata": {},
          "execution_count": 13
        }
      ]
    },
    {
      "cell_type": "markdown",
      "source": [
        "## Visulaizing data"
      ],
      "metadata": {
        "id": "ZTuXfaAb_NC4"
      }
    },
    {
      "cell_type": "code",
      "source": [
        "groups = df2.groupby('Category')\n",
        "\n",
        "plt.figure(figsize=(12, 6))\n",
        "\n",
        "# creating a scatter plot for each group\n",
        "for name, group in groups:\n",
        "    plt.scatter(group['Date'], group['Value'], label=name)\n",
        "\n",
        "plt.title(\"Historical Number of Accidents by Category\")\n",
        "plt.xlabel(\"Date\")\n",
        "plt.ylabel(\"Number of Accidents\")\n",
        "plt.legend()\n",
        "plt.show()"
      ],
      "metadata": {
        "colab": {
          "base_uri": "https://localhost:8080/",
          "height": 404
        },
        "id": "gEhp7pyimWTV",
        "outputId": "44917458-8d41-4c87-efb2-5c1f383356b6"
      },
      "execution_count": 14,
      "outputs": [
        {
          "output_type": "display_data",
          "data": {
            "text/plain": [
              "<Figure size 864x432 with 1 Axes>"
            ],
            "image/png": "[encoded data removed]"
          },
          "metadata": {
            "needs_background": "light"
          }
        }
      ]
    },
    {
      "cell_type": "code",
      "source": [
        "groups2 = df2.groupby('Category')\n",
        "\n",
        "# creating a scatter plot for each group\n",
        "for name, group in groups2:\n",
        "    plt.figure(figsize=(12, 6))  # new figure for each group\n",
        "    plt.scatter(group['Date'], group['Value'])\n",
        "    plt.title(f\"Historical Number of Accidents - {name}\")\n",
        "    plt.xlabel(\"Date\")\n",
        "    plt.ylabel(\"Number of Accidents\")\n",
        "\n",
        "plt.show()"
      ],
      "metadata": {
        "colab": {
          "base_uri": "https://localhost:8080/",
          "height": 1000
        },
        "id": "mfnovcchmWVB",
        "outputId": "3636f5ed-2c8a-423b-87b9-3257e52f179d"
      },
      "execution_count": 15,
      "outputs": [
        {
          "output_type": "display_data",
          "data": {
            "text/plain": [
              "<Figure size 864x432 with 1 Axes>"
            ],
            "image/png": "[encoded data removed]"
          },
          "metadata": {
            "needs_background": "light"
          }
        },
        {
          "output_type": "display_data",
          "data": {
            "text/plain": [
              "<Figure size 864x432 with 1 Axes>"
            ],
            "image/png": "[encoded data removed]"
          },
          "metadata": {
            "needs_background": "light"
          }
        },
        {
          "output_type": "display_data",
          "data": {
            "text/plain": [
              "<Figure size 864x432 with 1 Axes>"
            ],
            "image/png": "[encoded data removed]"
          },
          "metadata": {
            "needs_background": "light"
          }
        }
      ]
    },
    {
      "cell_type": "code",
      "source": [
        "# Get unique categories from the dataframe\n",
        "categories = df2['Category'].unique()"
      ],
      "metadata": {
        "id": "wc55vB1imWW_"
      },
      "execution_count": 16,
      "outputs": []
    },
    {
      "cell_type": "code",
      "source": [
        "# Iterate over the categories and create a separate plot for each category\n",
        "for category in categories:\n",
        "    data = df2[df2['Category'] == category]\n",
        "    plt.figure(figsize=(12, 6))\n",
        "    \n",
        "    # grouping the data by \"Accident-Type\" column\n",
        "    groups = data.groupby('Accident-Type')\n",
        "    \n",
        "    # scatter plot for each group\n",
        "    for name, group in groups:\n",
        "        plt.scatter(group['Date'], group['Value'], label=name)\n",
        "    \n",
        "    plt.title(f\"Historical Number of Accidents by Accident Type - {category}\")\n",
        "    plt.xlabel(\"Date\")\n",
        "    plt.ylabel(\"Number of Accidents\")\n",
        "    plt.legend()\n",
        "    plt.show()"
      ],
      "metadata": {
        "colab": {
          "base_uri": "https://localhost:8080/",
          "height": 1000
        },
        "id": "Ip_cmSyZ_q4Q",
        "outputId": "6c7deb35-c26b-463d-9b48-87cb2a56da12"
      },
      "execution_count": 17,
      "outputs": [
        {
          "output_type": "display_data",
          "data": {
            "text/plain": [
              "<Figure size 864x432 with 1 Axes>"
            ],
            "image/png": "[encoded data removed]"
          },
          "metadata": {
            "needs_background": "light"
          }
        },
        {
          "output_type": "display_data",
          "data": {
            "text/plain": [
              "<Figure size 864x432 with 1 Axes>"
            ],
            "image/png": "[encoded data removed]"
          },
          "metadata": {
            "needs_background": "light"
          }
        },
        {
          "output_type": "display_data",
          "data": {
            "text/plain": [
              "<Figure size 864x432 with 1 Axes>"
            ],
            "image/png": "[encoded data removed]"
          },
          "metadata": {
            "needs_background": "light"
          }
        }
      ]
    },
    {
      "cell_type": "markdown",
      "source": [
        "## XG Boost model"
      ],
      "metadata": {
        "id": "qztsqt3xAOWw"
      }
    },
    {
      "cell_type": "code",
      "source": [
        "# creating 2 new columns to encode Catgeory and Accident-Type\n",
        "df2['Category_Code'] = pd.factorize(df2['Category'])[0] + 1\n",
        "df2['Accident_Type_Code'] = pd.factorize(df2['Accident-Type'])[0] + 1"
      ],
      "metadata": {
        "colab": {
          "base_uri": "https://localhost:8080/"
        },
        "id": "_GjmnCxM_169",
        "outputId": "c1739f0c-b3a2-4b37-f6ad-6c3a22cb3662"
      },
      "execution_count": 18,
      "outputs": [
        {
          "output_type": "stream",
          "name": "stderr",
          "text": [
            "<ipython-input-18-97779b68cbba>:2: SettingWithCopyWarning: \n",
            "A value is trying to be set on a copy of a slice from a DataFrame.\n",
            "Try using .loc[row_indexer,col_indexer] = value instead\n",
            "\n",
            "See the caveats in the documentation: https://pandas.pydata.org/pandas-docs/stable/user_guide/indexing.html#returning-a-view-versus-a-copy\n",
            "  df2['Category_Code'] = pd.factorize(df2['Category'])[0] + 1\n",
            "<ipython-input-18-97779b68cbba>:3: SettingWithCopyWarning: \n",
            "A value is trying to be set on a copy of a slice from a DataFrame.\n",
            "Try using .loc[row_indexer,col_indexer] = value instead\n",
            "\n",
            "See the caveats in the documentation: https://pandas.pydata.org/pandas-docs/stable/user_guide/indexing.html#returning-a-view-versus-a-copy\n",
            "  df2['Accident_Type_Code'] = pd.factorize(df2['Accident-Type'])[0] + 1\n"
          ]
        }
      ]
    },
    {
      "cell_type": "code",
      "source": [
        "df2"
      ],
      "metadata": {
        "colab": {
          "base_uri": "https://localhost:8080/",
          "height": 463
        },
        "id": "fFYu4uyVAVBv",
        "outputId": "2445d51e-ca72-4be1-f69f-c76063aa99c3"
      },
      "execution_count": 19,
      "outputs": [
        {
          "output_type": "execute_result",
          "data": {
            "text/plain": [
              "             Category           Accident-Type  Year  Month  Value       Date  \\\n",
              "26     Alkoholunfälle               insgesamt  2020      1   28.0 2020-01-01   \n",
              "27     Alkoholunfälle               insgesamt  2020      2   40.0 2020-02-01   \n",
              "28     Alkoholunfälle               insgesamt  2020      3   27.0 2020-03-01   \n",
              "29     Alkoholunfälle               insgesamt  2020      4   26.0 2020-04-01   \n",
              "30     Alkoholunfälle               insgesamt  2020      5   40.0 2020-05-01   \n",
              "...               ...                     ...   ...    ...    ...        ...   \n",
              "2081  Verkehrsunfälle  Verletzte und Getötete  2000      8  647.0 2000-08-01   \n",
              "2082  Verkehrsunfälle  Verletzte und Getötete  2000      9  675.0 2000-09-01   \n",
              "2083  Verkehrsunfälle  Verletzte und Getötete  2000     10  615.0 2000-10-01   \n",
              "2084  Verkehrsunfälle  Verletzte und Getötete  2000     11  578.0 2000-11-01   \n",
              "2085  Verkehrsunfälle  Verletzte und Getötete  2000     12  515.0 2000-12-01   \n",
              "\n",
              "      Category_Code  Accident_Type_Code  \n",
              "26                1                   1  \n",
              "27                1                   1  \n",
              "28                1                   1  \n",
              "29                1                   1  \n",
              "30                1                   1  \n",
              "...             ...                 ...  \n",
              "2081              3                   2  \n",
              "2082              3                   2  \n",
              "2083              3                   2  \n",
              "2084              3                   2  \n",
              "2085              3                   2  \n",
              "\n",
              "[1764 rows x 8 columns]"
            ],
            "text/html": [
              "\n",
              "  <div id=\"df-78ecea08-328a-438c-8073-66f011ea930a\">\n",
              "    <div class=\"colab-df-container\">\n",
              "      <div>\n",
              "<style scoped>\n",
              "    .dataframe tbody tr th:only-of-type {\n",
              "        vertical-align: middle;\n",
              "    }\n",
              "\n",
              "    .dataframe tbody tr th {\n",
              "        vertical-align: top;\n",
              "    }\n",
              "\n",
              "    .dataframe thead th {\n",
              "        text-align: right;\n",
              "    }\n",
              "</style>\n",
              "<table border=\"1\" class=\"dataframe\">\n",
              "  <thead>\n",
              "    <tr style=\"text-align: right;\">\n",
              "      <th></th>\n",
              "      <th>Category</th>\n",
              "      <th>Accident-Type</th>\n",
              "      <th>Year</th>\n",
              "      <th>Month</th>\n",
              "      <th>Value</th>\n",
              "      <th>Date</th>\n",
              "      <th>Category_Code</th>\n",
              "      <th>Accident_Type_Code</th>\n",
              "    </tr>\n",
              "  </thead>\n",
              "  <tbody>\n",
              "    <tr>\n",
              "      <th>26</th>\n",
              "      <td>Alkoholunfälle</td>\n",
              "      <td>insgesamt</td>\n",
              "      <td>2020</td>\n",
              "      <td>1</td>\n",
              "      <td>28.0</td>\n",
              "      <td>2020-01-01</td>\n",
              "      <td>1</td>\n",
              "      <td>1</td>\n",
              "    </tr>\n",
              "    <tr>\n",
              "      <th>27</th>\n",
              "      <td>Alkoholunfälle</td>\n",
              "      <td>insgesamt</td>\n",
              "      <td>2020</td>\n",
              "      <td>2</td>\n",
              "      <td>40.0</td>\n",
              "      <td>2020-02-01</td>\n",
              "      <td>1</td>\n",
              "      <td>1</td>\n",
              "    </tr>\n",
              "    <tr>\n",
              "      <th>28</th>\n",
              "      <td>Alkoholunfälle</td>\n",
              "      <td>insgesamt</td>\n",
              "      <td>2020</td>\n",
              "      <td>3</td>\n",
              "      <td>27.0</td>\n",
              "      <td>2020-03-01</td>\n",
              "      <td>1</td>\n",
              "      <td>1</td>\n",
              "    </tr>\n",
              "    <tr>\n",
              "      <th>29</th>\n",
              "      <td>Alkoholunfälle</td>\n",
              "      <td>insgesamt</td>\n",
              "      <td>2020</td>\n",
              "      <td>4</td>\n",
              "      <td>26.0</td>\n",
              "      <td>2020-04-01</td>\n",
              "      <td>1</td>\n",
              "      <td>1</td>\n",
              "    </tr>\n",
              "    <tr>\n",
              "      <th>30</th>\n",
              "      <td>Alkoholunfälle</td>\n",
              "      <td>insgesamt</td>\n",
              "      <td>2020</td>\n",
              "      <td>5</td>\n",
              "      <td>40.0</td>\n",
              "      <td>2020-05-01</td>\n",
              "      <td>1</td>\n",
              "      <td>1</td>\n",
              "    </tr>\n",
              "    <tr>\n",
              "      <th>...</th>\n",
              "      <td>...</td>\n",
              "      <td>...</td>\n",
              "      <td>...</td>\n",
              "      <td>...</td>\n",
              "      <td>...</td>\n",
              "      <td>...</td>\n",
              "      <td>...</td>\n",
              "      <td>...</td>\n",
              "    </tr>\n",
              "    <tr>\n",
              "      <th>2081</th>\n",
              "      <td>Verkehrsunfälle</td>\n",
              "      <td>Verletzte und Getötete</td>\n",
              "      <td>2000</td>\n",
              "      <td>8</td>\n",
              "      <td>647.0</td>\n",
              "      <td>2000-08-01</td>\n",
              "      <td>3</td>\n",
              "      <td>2</td>\n",
              "    </tr>\n",
              "    <tr>\n",
              "      <th>2082</th>\n",
              "      <td>Verkehrsunfälle</td>\n",
              "      <td>Verletzte und Getötete</td>\n",
              "      <td>2000</td>\n",
              "      <td>9</td>\n",
              "      <td>675.0</td>\n",
              "      <td>2000-09-01</td>\n",
              "      <td>3</td>\n",
              "      <td>2</td>\n",
              "    </tr>\n",
              "    <tr>\n",
              "      <th>2083</th>\n",
              "      <td>Verkehrsunfälle</td>\n",
              "      <td>Verletzte und Getötete</td>\n",
              "      <td>2000</td>\n",
              "      <td>10</td>\n",
              "      <td>615.0</td>\n",
              "      <td>2000-10-01</td>\n",
              "      <td>3</td>\n",
              "      <td>2</td>\n",
              "    </tr>\n",
              "    <tr>\n",
              "      <th>2084</th>\n",
              "      <td>Verkehrsunfälle</td>\n",
              "      <td>Verletzte und Getötete</td>\n",
              "      <td>2000</td>\n",
              "      <td>11</td>\n",
              "      <td>578.0</td>\n",
              "      <td>2000-11-01</td>\n",
              "      <td>3</td>\n",
              "      <td>2</td>\n",
              "    </tr>\n",
              "    <tr>\n",
              "      <th>2085</th>\n",
              "      <td>Verkehrsunfälle</td>\n",
              "      <td>Verletzte und Getötete</td>\n",
              "      <td>2000</td>\n",
              "      <td>12</td>\n",
              "      <td>515.0</td>\n",
              "      <td>2000-12-01</td>\n",
              "      <td>3</td>\n",
              "      <td>2</td>\n",
              "    </tr>\n",
              "  </tbody>\n",
              "</table>\n",
              "<p>1764 rows × 8 columns</p>\n",
              "</div>\n",
              "      <button class=\"colab-df-convert\" onclick=\"convertToInteractive('df-78ecea08-328a-438c-8073-66f011ea930a')\"\n",
              "              title=\"Convert this dataframe to an interactive table.\"\n",
              "              style=\"display:none;\">\n",
              "        \n",
              "  <svg xmlns=\"http://www.w3.org/2000/svg\" height=\"24px\"viewBox=\"0 0 24 24\"\n",
              "       width=\"24px\">\n",
              "    <path d=\"M0 0h24v24H0V0z\" fill=\"none\"/>\n",
              "    <path d=\"M18.56 5.44l.94 2.06.94-2.06 2.06-.94-2.06-.94-.94-2.06-.94 2.06-2.06.94zm-11 1L8.5 8.5l.94-2.06 2.06-.94-2.06-.94L8.5 2.5l-.94 2.06-2.06.94zm10 10l.94 2.06.94-2.06 2.06-.94-2.06-.94-.94-2.06-.94 2.06-2.06.94z\"/><path d=\"M17.41 7.96l-1.37-1.37c-.4-.4-.92-.59-1.43-.59-.52 0-1.04.2-1.43.59L10.3 9.45l-7.72 7.72c-.78.78-.78 2.05 0 2.83L4 21.41c.39.39.9.59 1.41.59.51 0 1.02-.2 1.41-.59l7.78-7.78 2.81-2.81c.8-.78.8-2.07 0-2.86zM5.41 20L4 18.59l7.72-7.72 1.47 1.35L5.41 20z\"/>\n",
              "  </svg>\n",
              "      </button>\n",
              "      \n",
              "  <style>\n",
              "    .colab-df-container {\n",
              "      display:flex;\n",
              "      flex-wrap:wrap;\n",
              "      gap: 12px;\n",
              "    }\n",
              "\n",
              "    .colab-df-convert {\n",
              "      background-color: #E8F0FE;\n",
              "      border: none;\n",
              "      border-radius: 50%;\n",
              "      cursor: pointer;\n",
              "      display: none;\n",
              "      fill: #1967D2;\n",
              "      height: 32px;\n",
              "      padding: 0 0 0 0;\n",
              "      width: 32px;\n",
              "    }\n",
              "\n",
              "    .colab-df-convert:hover {\n",
              "      background-color: #E2EBFA;\n",
              "      box-shadow: 0px 1px 2px rgba(60, 64, 67, 0.3), 0px 1px 3px 1px rgba(60, 64, 67, 0.15);\n",
              "      fill: #174EA6;\n",
              "    }\n",
              "\n",
              "    [theme=dark] .colab-df-convert {\n",
              "      background-color: #3B4455;\n",
              "      fill: #D2E3FC;\n",
              "    }\n",
              "\n",
              "    [theme=dark] .colab-df-convert:hover {\n",
              "      background-color: #434B5C;\n",
              "      box-shadow: 0px 1px 3px 1px rgba(0, 0, 0, 0.15);\n",
              "      filter: drop-shadow(0px 1px 2px rgba(0, 0, 0, 0.3));\n",
              "      fill: #FFFFFF;\n",
              "    }\n",
              "  </style>\n",
              "\n",
              "      <script>\n",
              "        const buttonEl =\n",
              "          document.querySelector('#df-78ecea08-328a-438c-8073-66f011ea930a button.colab-df-convert');\n",
              "        buttonEl.style.display =\n",
              "          google.colab.kernel.accessAllowed ? 'block' : 'none';\n",
              "\n",
              "        async function convertToInteractive(key) {\n",
              "          const element = document.querySelector('#df-78ecea08-328a-438c-8073-66f011ea930a');\n",
              "          const dataTable =\n",
              "            await google.colab.kernel.invokeFunction('convertToInteractive',\n",
              "                                                     [key], {});\n",
              "          if (!dataTable) return;\n",
              "\n",
              "          const docLinkHtml = 'Like what you see? Visit the ' +\n",
              "            '<a target=\"_blank\" href=https://colab.research.google.com/notebooks/data_table.ipynb>data table notebook</a>'\n",
              "            + ' to learn more about interactive tables.';\n",
              "          element.innerHTML = '';\n",
              "          dataTable['output_type'] = 'display_data';\n",
              "          await google.colab.output.renderOutput(dataTable, element);\n",
              "          const docLink = document.createElement('div');\n",
              "          docLink.innerHTML = docLinkHtml;\n",
              "          element.appendChild(docLink);\n",
              "        }\n",
              "      </script>\n",
              "    </div>\n",
              "  </div>\n",
              "  "
            ]
          },
          "metadata": {},
          "execution_count": 19
        }
      ]
    },
    {
      "cell_type": "code",
      "source": [
        "# Counting the number of unique category and accident-type codes\n",
        "category_counts = df2.groupby(['Category_Code'])['Category'].nunique()\n",
        "accident_type_counts = df2.groupby(['Accident_Type_Code'])['Accident-Type'].nunique()\n",
        "\n",
        "print(\"Number of unique category codes:\", len(category_counts))\n",
        "print(category_counts)\n",
        "\n",
        "print(\"Number of unique accident-type codes:\", len(accident_type_counts))\n",
        "print(accident_type_counts)"
      ],
      "metadata": {
        "colab": {
          "base_uri": "https://localhost:8080/"
        },
        "id": "ac4Xdx7UAVED",
        "outputId": "2cdfb74f-182b-4f5c-91b7-b0e0cd10f90a"
      },
      "execution_count": 20,
      "outputs": [
        {
          "output_type": "stream",
          "name": "stdout",
          "text": [
            "Number of unique category codes: 3\n",
            "Category_Code\n",
            "1    1\n",
            "2    1\n",
            "3    1\n",
            "Name: Category, dtype: int64\n",
            "Number of unique accident-type codes: 3\n",
            "Accident_Type_Code\n",
            "1    1\n",
            "2    1\n",
            "3    1\n",
            "Name: Accident-Type, dtype: int64\n"
          ]
        }
      ]
    },
    {
      "cell_type": "code",
      "source": [
        "# grouping by Category_Code and Accident_Type_Code and aggregate the corresponding strings\n",
        "category_map = df2.groupby('Category_Code').agg({'Category': 'first'})\n",
        "accident_map = df2.groupby('Accident_Type_Code').agg({'Accident-Type': 'first'})\n",
        "\n",
        "print(\"Category Mappings:\")\n",
        "print(category_map)\n",
        "\n",
        "print(\"\\nAccident-Type Mappings:\")\n",
        "print(accident_map)"
      ],
      "metadata": {
        "colab": {
          "base_uri": "https://localhost:8080/"
        },
        "id": "ZQGG5XGdAVGV",
        "outputId": "7adb461a-bc26-48e2-8ce0-b32d7f06c6c7"
      },
      "execution_count": 21,
      "outputs": [
        {
          "output_type": "stream",
          "name": "stdout",
          "text": [
            "Category Mappings:\n",
            "                      Category\n",
            "Category_Code                 \n",
            "1               Alkoholunfälle\n",
            "2                Fluchtunfälle\n",
            "3              Verkehrsunfälle\n",
            "\n",
            "Accident-Type Mappings:\n",
            "                             Accident-Type\n",
            "Accident_Type_Code                        \n",
            "1                                insgesamt\n",
            "2                   Verletzte und Getötete\n",
            "3                      mit Personenschäden\n"
          ]
        }
      ]
    },
    {
      "cell_type": "code",
      "source": [
        "from sklearn.model_selection import train_test_split, GridSearchCV, RandomizedSearchCV\n",
        "from sklearn.ensemble import RandomForestRegressor\n",
        "from sklearn.metrics import mean_squared_error, r2_score, explained_variance_score, max_error, mean_absolute_error\n",
        "from xgboost import XGBRegressor\n",
        "import tensorflow as tf\n",
        "from tensorflow import keras\n",
        "from sklearn.model_selection import train_test_split\n",
        "from sklearn.preprocessing import StandardScaler\n",
        "from sklearn.svm import SVR\n",
        "import xgboost as xgb\n",
        "import numpy as np"
      ],
      "metadata": {
        "id": "m2oEZd_qAVIw"
      },
      "execution_count": 22,
      "outputs": []
    },
    {
      "cell_type": "code",
      "source": [
        "# Converting the features and target variable to numpy arrays\n",
        "X = df2[['Category_Code', 'Accident_Type_Code', 'Year', 'Month']].values\n",
        "y = df2['Value'].values"
      ],
      "metadata": {
        "id": "txePtzseBLiF"
      },
      "execution_count": 23,
      "outputs": []
    },
    {
      "cell_type": "code",
      "source": [
        "# Splitting the data into training and testing sets\n",
        "X_train, X_test, y_train, y_test = train_test_split(X, y, test_size=0.2, random_state=42)"
      ],
      "metadata": {
        "id": "QLy7I5w1BLj-"
      },
      "execution_count": 24,
      "outputs": []
    },
    {
      "cell_type": "code",
      "source": [
        "xgb_model = XGBRegressor(objective='reg:squarederror', random_state=42)\n",
        "xgb_model.fit(X_train, y_train)"
      ],
      "metadata": {
        "colab": {
          "base_uri": "https://localhost:8080/",
          "height": 244
        },
        "id": "8Mz67ED0BLl1",
        "outputId": "44474c59-dc20-4e40-b25f-f8427bdeaafc"
      },
      "execution_count": 25,
      "outputs": [
        {
          "output_type": "execute_result",
          "data": {
            "text/plain": [
              "XGBRegressor(base_score=None, booster=None, callbacks=None,\n",
              "             colsample_bylevel=None, colsample_bynode=None,\n",
              "             colsample_bytree=None, early_stopping_rounds=None,\n",
              "             enable_categorical=False, eval_metric=None, feature_types=None,\n",
              "             gamma=None, gpu_id=None, grow_policy=None, importance_type=None,\n",
              "             interaction_constraints=None, learning_rate=None, max_bin=None,\n",
              "             max_cat_threshold=None, max_cat_to_onehot=None,\n",
              "             max_delta_step=None, max_depth=None, max_leaves=None,\n",
              "             min_child_weight=None, missing=nan, monotone_constraints=None,\n",
              "             n_estimators=100, n_jobs=None, num_parallel_tree=None,\n",
              "             predictor=None, random_state=42, ...)"
            ],
            "text/html": [
              "<style>#sk-container-id-1 {color: black;background-color: white;}#sk-container-id-1 pre{padding: 0;}#sk-container-id-1 div.sk-toggleable {background-color: white;}#sk-container-id-1 label.sk-toggleable__label {cursor: pointer;display: block;width: 100%;margin-bottom: 0;padding: 0.3em;box-sizing: border-box;text-align: center;}#sk-container-id-1 label.sk-toggleable__label-arrow:before {content: \"▸\";float: left;margin-right: 0.25em;color: #696969;}#sk-container-id-1 label.sk-toggleable__label-arrow:hover:before {color: black;}#sk-container-id-1 div.sk-estimator:hover label.sk-toggleable__label-arrow:before {color: black;}#sk-container-id-1 div.sk-toggleable__content {max-height: 0;max-width: 0;overflow: hidden;text-align: left;background-color: #f0f8ff;}#sk-container-id-1 div.sk-toggleable__content pre {margin: 0.2em;color: black;border-radius: 0.25em;background-color: #f0f8ff;}#sk-container-id-1 input.sk-toggleable__control:checked~div.sk-toggleable__content {max-height: 200px;max-width: 100%;overflow: auto;}#sk-container-id-1 input.sk-toggleable__control:checked~label.sk-toggleable__label-arrow:before {content: \"▾\";}#sk-container-id-1 div.sk-estimator input.sk-toggleable__control:checked~label.sk-toggleable__label {background-color: #d4ebff;}#sk-container-id-1 div.sk-label input.sk-toggleable__control:checked~label.sk-toggleable__label {background-color: #d4ebff;}#sk-container-id-1 input.sk-hidden--visually {border: 0;clip: rect(1px 1px 1px 1px);clip: rect(1px, 1px, 1px, 1px);height: 1px;margin: -1px;overflow: hidden;padding: 0;position: absolute;width: 1px;}#sk-container-id-1 div.sk-estimator {font-family: monospace;background-color: #f0f8ff;border: 1px dotted black;border-radius: 0.25em;box-sizing: border-box;margin-bottom: 0.5em;}#sk-container-id-1 div.sk-estimator:hover {background-color: #d4ebff;}#sk-container-id-1 div.sk-parallel-item::after {content: \"\";width: 100%;border-bottom: 1px solid gray;flex-grow: 1;}#sk-container-id-1 div.sk-label:hover label.sk-toggleable__label {background-color: #d4ebff;}#sk-container-id-1 div.sk-serial::before {content: \"\";position: absolute;border-left: 1px solid gray;box-sizing: border-box;top: 0;bottom: 0;left: 50%;z-index: 0;}#sk-container-id-1 div.sk-serial {display: flex;flex-direction: column;align-items: center;background-color: white;padding-right: 0.2em;padding-left: 0.2em;position: relative;}#sk-container-id-1 div.sk-item {position: relative;z-index: 1;}#sk-container-id-1 div.sk-parallel {display: flex;align-items: stretch;justify-content: center;background-color: white;position: relative;}#sk-container-id-1 div.sk-item::before, #sk-container-id-1 div.sk-parallel-item::before {content: \"\";position: absolute;border-left: 1px solid gray;box-sizing: border-box;top: 0;bottom: 0;left: 50%;z-index: -1;}#sk-container-id-1 div.sk-parallel-item {display: flex;flex-direction: column;z-index: 1;position: relative;background-color: white;}#sk-container-id-1 div.sk-parallel-item:first-child::after {align-self: flex-end;width: 50%;}#sk-container-id-1 div.sk-parallel-item:last-child::after {align-self: flex-start;width: 50%;}#sk-container-id-1 div.sk-parallel-item:only-child::after {width: 0;}#sk-container-id-1 div.sk-dashed-wrapped {border: 1px dashed gray;margin: 0 0.4em 0.5em 0.4em;box-sizing: border-box;padding-bottom: 0.4em;background-color: white;}#sk-container-id-1 div.sk-label label {font-family: monospace;font-weight: bold;display: inline-block;line-height: 1.2em;}#sk-container-id-1 div.sk-label-container {text-align: center;}#sk-container-id-1 div.sk-container {/* jupyter's `normalize.less` sets `[hidden] { display: none; }` but bootstrap.min.css set `[hidden] { display: none !important; }` so we also need the `!important` here to be able to override the default hidden behavior on the sphinx rendered scikit-learn.org. See: https://github.com/scikit-learn/scikit-learn/issues/21755 */display: inline-block !important;position: relative;}#sk-container-id-1 div.sk-text-repr-fallback {display: none;}</style><div id=\"sk-container-id-1\" class=\"sk-top-container\"><div class=\"sk-text-repr-fallback\"><pre>XGBRegressor(base_score=None, booster=None, callbacks=None,\n",
              "             colsample_bylevel=None, colsample_bynode=None,\n",
              "             colsample_bytree=None, early_stopping_rounds=None,\n",
              "             enable_categorical=False, eval_metric=None, feature_types=None,\n",
              "             gamma=None, gpu_id=None, grow_policy=None, importance_type=None,\n",
              "             interaction_constraints=None, learning_rate=None, max_bin=None,\n",
              "             max_cat_threshold=None, max_cat_to_onehot=None,\n",
              "             max_delta_step=None, max_depth=None, max_leaves=None,\n",
              "             min_child_weight=None, missing=nan, monotone_constraints=None,\n",
              "             n_estimators=100, n_jobs=None, num_parallel_tree=None,\n",
              "             predictor=None, random_state=42, ...)</pre><b>In a Jupyter environment, please rerun this cell to show the HTML representation or trust the notebook. <br />On GitHub, the HTML representation is unable to render, please try loading this page with nbviewer.org.</b></div><div class=\"sk-container\" hidden><div class=\"sk-item\"><div class=\"sk-estimator sk-toggleable\"><input class=\"sk-toggleable__control sk-hidden--visually\" id=\"sk-estimator-id-1\" type=\"checkbox\" checked><label for=\"sk-estimator-id-1\" class=\"sk-toggleable__label sk-toggleable__label-arrow\">XGBRegressor</label><div class=\"sk-toggleable__content\"><pre>XGBRegressor(base_score=None, booster=None, callbacks=None,\n",
              "             colsample_bylevel=None, colsample_bynode=None,\n",
              "             colsample_bytree=None, early_stopping_rounds=None,\n",
              "             enable_categorical=False, eval_metric=None, feature_types=None,\n",
              "             gamma=None, gpu_id=None, grow_policy=None, importance_type=None,\n",
              "             interaction_constraints=None, learning_rate=None, max_bin=None,\n",
              "             max_cat_threshold=None, max_cat_to_onehot=None,\n",
              "             max_delta_step=None, max_depth=None, max_leaves=None,\n",
              "             min_child_weight=None, missing=nan, monotone_constraints=None,\n",
              "             n_estimators=100, n_jobs=None, num_parallel_tree=None,\n",
              "             predictor=None, random_state=42, ...)</pre></div></div></div></div></div>"
            ]
          },
          "metadata": {},
          "execution_count": 25
        }
      ]
    },
    {
      "cell_type": "code",
      "source": [
        "y_pred = xgb_model.predict(X_test)\n",
        "\n",
        "# performance metrics\n",
        "mse = mean_squared_error(y_test, y_pred)\n",
        "r2 = r2_score(y_test, y_pred)\n",
        "evs = explained_variance_score(y_test, y_pred)\n",
        "me = max_error(y_test, y_pred)\n",
        "mae = mean_absolute_error(y_test, y_pred)\n",
        "\n",
        "print(\"Mean Squared Error:\", mse)\n",
        "print(\"R-squared Score:\", r2)\n",
        "print(\"Explained Variance Score:\", evs)\n",
        "print(\"Max Error:\", me)\n",
        "print(\"Mean Absolute Error:\", mae)"
      ],
      "metadata": {
        "colab": {
          "base_uri": "https://localhost:8080/"
        },
        "id": "GElwieHEBSE0",
        "outputId": "72109a3f-62fd-48fa-c252-da9271e18524"
      },
      "execution_count": 26,
      "outputs": [
        {
          "output_type": "stream",
          "name": "stdout",
          "text": [
            "Mean Squared Error: 9506.709389506654\n",
            "R-squared Score: 0.9923082660222924\n",
            "Explained Variance Score: 0.9923104190196473\n",
            "Max Error: 1075.558349609375\n",
            "Mean Absolute Error: 47.253125779014134\n"
          ]
        }
      ]
    },
    {
      "cell_type": "code",
      "source": [
        "_# Print the category and accident-type mappings\n",
        "print(\"Category Mappings:\")\n",
        "print(category_map)\n",
        "\n",
        "print(\"\\nAccident-Type Mappings:\")\n",
        "print(accident_map)"
      ],
      "metadata": {
        "colab": {
          "base_uri": "https://localhost:8080/"
        },
        "id": "tXvi8HlIBkm-",
        "outputId": "a4673a78-ac18-4741-e62c-ed89c6b40ba6"
      },
      "execution_count": 27,
      "outputs": [
        {
          "output_type": "stream",
          "name": "stdout",
          "text": [
            "Category Mappings:\n",
            "                      Category\n",
            "Category_Code                 \n",
            "1               Alkoholunfälle\n",
            "2                Fluchtunfälle\n",
            "3              Verkehrsunfälle\n",
            "\n",
            "Accident-Type Mappings:\n",
            "                             Accident-Type\n",
            "Accident_Type_Code                        \n",
            "1                                insgesamt\n",
            "2                   Verletzte und Getötete\n",
            "3                      mit Personenschäden\n"
          ]
        }
      ]
    },
    {
      "cell_type": "code",
      "source": [
        "new_features = np.array([[1, 1, 2021, 1]]) # category code = 1 (Alkoholunfälle), accident type code = 1 (insgesamt), year = 2021, month = 01\n",
        "predicted_value = xgb_model.predict(new_features)\n",
        "\n",
        "print(\"Predicted Value by XGB model:\", predicted_value)"
      ],
      "metadata": {
        "colab": {
          "base_uri": "https://localhost:8080/"
        },
        "id": "MR-1pBfRBpTD",
        "outputId": "4cda9d50-fa30-40cb-a82a-89dc41494fd2"
      },
      "execution_count": 28,
      "outputs": [
        {
          "output_type": "stream",
          "name": "stdout",
          "text": [
            "Predicted Value by XGB model: [25.912327]\n"
          ]
        }
      ]
    },
    {
      "cell_type": "markdown",
      "source": [
        "## Neural network"
      ],
      "metadata": {
        "id": "HNw7G-cemFho"
      }
    },
    {
      "cell_type": "code",
      "source": [
        "# Importing necessary libraries\n",
        "import numpy as np\n",
        "from sklearn.model_selection import train_test_split\n",
        "from sklearn.preprocessing import StandardScaler\n",
        "from keras.models import Sequential\n",
        "from keras.layers import Dense, Dropout\n",
        "from keras.optimizers import Adam\n",
        "from keras import regularizers\n",
        "\n",
        "# Splitting the data into training and testing datasets\n",
        "X = df2[['Category_Code', 'Accident_Type_Code', 'Year', 'Month']]\n",
        "y = df2['Value']\n",
        "X_train, X_test, y_train, y_test = train_test_split(X, y, test_size=0.2, random_state=42)\n",
        "\n",
        "# Scaling the numeric features\n",
        "scaler = StandardScaler()\n",
        "X_train = scaler.fit_transform(X_train)\n",
        "X_test = scaler.transform(X_test)\n",
        "\n",
        "# Defining the neural network model\n",
        "model = Sequential()\n",
        "model.add(Dense(128, input_dim=X_train.shape[1], activation='relu'))\n",
        "model.add(Dropout(0.3))\n",
        "model.add(Dense(64, activation='relu'))\n",
        "model.add(Dropout(0.3))\n",
        "model.add(Dense(32, activation='relu'))\n",
        "model.add(Dropout(0.3))\n",
        "model.add(Dense(1))\n",
        "\n",
        "# Compiling the model\n",
        "optimizer = Adam(lr=0.001)\n",
        "model.compile(optimizer=optimizer, loss='mse', metrics=['mae'])\n",
        "\n",
        "# Training the model\n",
        "model.fit(X_train, y_train, epochs=50, batch_size=32, validation_data=(X_test, y_test))\n",
        "\n",
        "y_pred = model.predict(X_test)\n",
        "score = model.evaluate(X_test, y_test, verbose=0)\n",
        "r2score = r2_score(y_test, y_pred)\n",
        "print(\"Test loss:\", score[0])\n",
        "print(\"Test MAE:\", score[1])\n",
        "print(\"R2 score:\", r2score)"
      ],
      "metadata": {
        "colab": {
          "base_uri": "https://localhost:8080/"
        },
        "id": "0g2LM6MwbZ6Y",
        "outputId": "3b457b69-fafe-4926-c927-02c2749b1dd4"
      },
      "execution_count": 29,
      "outputs": [
        {
          "output_type": "stream",
          "name": "stderr",
          "text": [
            "/usr/local/lib/python3.9/dist-packages/keras/optimizers/optimizer_v2/adam.py:117: UserWarning: The `lr` argument is deprecated, use `learning_rate` instead.\n",
            "  super().__init__(name, **kwargs)\n"
          ]
        },
        {
          "output_type": "stream",
          "name": "stdout",
          "text": [
            "Epoch 1/50\n",
            "45/45 [==============================] - 2s 14ms/step - loss: 2061658.7500 - mae: 794.2338 - val_loss: 1732213.8750 - val_mae: 705.9146\n",
            "Epoch 2/50\n",
            "45/45 [==============================] - 0s 6ms/step - loss: 2007606.6250 - mae: 770.5137 - val_loss: 1600538.5000 - val_mae: 653.5534\n",
            "Epoch 3/50\n",
            "45/45 [==============================] - 0s 6ms/step - loss: 1629549.3750 - mae: 673.1562 - val_loss: 1012288.1875 - val_mae: 508.7835\n",
            "Epoch 4/50\n",
            "45/45 [==============================] - 0s 6ms/step - loss: 839874.9375 - mae: 566.3672 - val_loss: 464132.4062 - val_mae: 526.3376\n",
            "Epoch 5/50\n",
            "45/45 [==============================] - 0s 6ms/step - loss: 493201.6562 - mae: 522.7479 - val_loss: 342239.5938 - val_mae: 454.8259\n",
            "Epoch 6/50\n",
            "45/45 [==============================] - 0s 7ms/step - loss: 375799.0312 - mae: 447.0938 - val_loss: 271972.8125 - val_mae: 385.0198\n",
            "Epoch 7/50\n",
            "45/45 [==============================] - 0s 7ms/step - loss: 322166.3750 - mae: 390.9524 - val_loss: 228819.8750 - val_mae: 345.6372\n",
            "Epoch 8/50\n",
            "45/45 [==============================] - 0s 7ms/step - loss: 273079.3750 - mae: 354.9226 - val_loss: 196784.0156 - val_mae: 317.0898\n",
            "Epoch 9/50\n",
            "45/45 [==============================] - 0s 6ms/step - loss: 264803.1875 - mae: 333.5871 - val_loss: 172064.2500 - val_mae: 291.1897\n",
            "Epoch 10/50\n",
            "45/45 [==============================] - 0s 4ms/step - loss: 249149.6719 - mae: 321.0797 - val_loss: 147375.0625 - val_mae: 269.9344\n",
            "Epoch 11/50\n",
            "45/45 [==============================] - 0s 4ms/step - loss: 205135.8750 - mae: 288.8292 - val_loss: 127280.3828 - val_mae: 247.3907\n",
            "Epoch 12/50\n",
            "45/45 [==============================] - 0s 4ms/step - loss: 184535.5156 - mae: 263.9150 - val_loss: 109952.1172 - val_mae: 223.4531\n",
            "Epoch 13/50\n",
            "45/45 [==============================] - 0s 4ms/step - loss: 176262.0625 - mae: 256.4355 - val_loss: 92153.5078 - val_mae: 205.9494\n",
            "Epoch 14/50\n",
            "45/45 [==============================] - 0s 4ms/step - loss: 150277.9531 - mae: 228.4241 - val_loss: 82294.5859 - val_mae: 187.4167\n",
            "Epoch 15/50\n",
            "45/45 [==============================] - 0s 3ms/step - loss: 162118.5469 - mae: 232.3291 - val_loss: 69073.7656 - val_mae: 171.7871\n",
            "Epoch 16/50\n",
            "45/45 [==============================] - 0s 4ms/step - loss: 147243.1562 - mae: 218.2057 - val_loss: 62067.3086 - val_mae: 157.3040\n",
            "Epoch 17/50\n",
            "45/45 [==============================] - 0s 4ms/step - loss: 138930.9531 - mae: 212.3951 - val_loss: 54617.3320 - val_mae: 144.7361\n",
            "Epoch 18/50\n",
            "45/45 [==============================] - 0s 3ms/step - loss: 106228.8047 - mae: 185.7282 - val_loss: 48836.8672 - val_mae: 134.8642\n",
            "Epoch 19/50\n",
            "45/45 [==============================] - 0s 3ms/step - loss: 142181.6250 - mae: 198.0198 - val_loss: 48093.1680 - val_mae: 129.1796\n",
            "Epoch 20/50\n",
            "45/45 [==============================] - 0s 4ms/step - loss: 112252.1328 - mae: 178.9741 - val_loss: 39867.9102 - val_mae: 122.7149\n",
            "Epoch 21/50\n",
            "45/45 [==============================] - 0s 4ms/step - loss: 115203.8672 - mae: 182.1078 - val_loss: 38927.3867 - val_mae: 118.0038\n",
            "Epoch 22/50\n",
            "45/45 [==============================] - 0s 4ms/step - loss: 110673.3125 - mae: 175.5635 - val_loss: 42892.5078 - val_mae: 119.5267\n",
            "Epoch 23/50\n",
            "45/45 [==============================] - 0s 4ms/step - loss: 107463.4922 - mae: 172.0443 - val_loss: 41085.6367 - val_mae: 117.4849\n",
            "Epoch 24/50\n",
            "45/45 [==============================] - 0s 3ms/step - loss: 122841.5000 - mae: 184.6111 - val_loss: 41612.8477 - val_mae: 116.7003\n",
            "Epoch 25/50\n",
            "45/45 [==============================] - 0s 4ms/step - loss: 110047.8984 - mae: 171.5280 - val_loss: 34046.0312 - val_mae: 110.3870\n",
            "Epoch 26/50\n",
            "45/45 [==============================] - 0s 4ms/step - loss: 102818.8359 - mae: 168.7323 - val_loss: 40222.6016 - val_mae: 115.3101\n",
            "Epoch 27/50\n",
            "45/45 [==============================] - 0s 4ms/step - loss: 111843.3359 - mae: 174.9775 - val_loss: 35357.0938 - val_mae: 108.9668\n",
            "Epoch 28/50\n",
            "45/45 [==============================] - 0s 4ms/step - loss: 118481.7344 - mae: 171.2525 - val_loss: 32207.4473 - val_mae: 105.9501\n",
            "Epoch 29/50\n",
            "45/45 [==============================] - 0s 4ms/step - loss: 102444.9688 - mae: 169.1651 - val_loss: 37051.9141 - val_mae: 110.1541\n",
            "Epoch 30/50\n",
            "45/45 [==============================] - 0s 4ms/step - loss: 103788.2812 - mae: 162.8570 - val_loss: 36388.5000 - val_mae: 107.1860\n",
            "Epoch 31/50\n",
            "45/45 [==============================] - 0s 3ms/step - loss: 105345.6406 - mae: 163.5874 - val_loss: 30469.1133 - val_mae: 102.3500\n",
            "Epoch 32/50\n",
            "45/45 [==============================] - 0s 4ms/step - loss: 97310.6641 - mae: 159.5682 - val_loss: 40231.8242 - val_mae: 112.0489\n",
            "Epoch 33/50\n",
            "45/45 [==============================] - 0s 3ms/step - loss: 118440.9141 - mae: 173.3082 - val_loss: 30308.9414 - val_mae: 101.1125\n",
            "Epoch 34/50\n",
            "45/45 [==============================] - 0s 4ms/step - loss: 86238.8047 - mae: 154.7615 - val_loss: 31252.0703 - val_mae: 101.0657\n",
            "Epoch 35/50\n",
            "45/45 [==============================] - 0s 4ms/step - loss: 102265.4766 - mae: 164.0216 - val_loss: 36624.8242 - val_mae: 105.5599\n",
            "Epoch 36/50\n",
            "45/45 [==============================] - 0s 4ms/step - loss: 109586.1797 - mae: 165.4587 - val_loss: 32890.9102 - val_mae: 102.0100\n",
            "Epoch 37/50\n",
            "45/45 [==============================] - 0s 4ms/step - loss: 94933.5078 - mae: 158.2675 - val_loss: 32866.9961 - val_mae: 101.4672\n",
            "Epoch 38/50\n",
            "45/45 [==============================] - 0s 4ms/step - loss: 100842.6562 - mae: 160.5998 - val_loss: 29765.3691 - val_mae: 97.5110\n",
            "Epoch 39/50\n",
            "45/45 [==============================] - 0s 5ms/step - loss: 102875.6875 - mae: 163.1839 - val_loss: 41847.1836 - val_mae: 109.8513\n",
            "Epoch 40/50\n",
            "45/45 [==============================] - 0s 4ms/step - loss: 102974.4688 - mae: 157.9400 - val_loss: 31623.9668 - val_mae: 97.9566\n",
            "Epoch 41/50\n",
            "45/45 [==============================] - 0s 4ms/step - loss: 111585.5000 - mae: 165.0213 - val_loss: 32222.4590 - val_mae: 98.2208\n",
            "Epoch 42/50\n",
            "45/45 [==============================] - 0s 4ms/step - loss: 121176.6953 - mae: 172.5918 - val_loss: 35338.6133 - val_mae: 102.5896\n",
            "Epoch 43/50\n",
            "45/45 [==============================] - 0s 4ms/step - loss: 104086.9844 - mae: 163.1437 - val_loss: 33987.2617 - val_mae: 100.5086\n",
            "Epoch 44/50\n",
            "45/45 [==============================] - 0s 4ms/step - loss: 112182.5234 - mae: 166.1709 - val_loss: 36057.9297 - val_mae: 102.6793\n",
            "Epoch 45/50\n",
            "45/45 [==============================] - 0s 4ms/step - loss: 106828.1797 - mae: 164.9191 - val_loss: 33070.9531 - val_mae: 99.0952\n",
            "Epoch 46/50\n",
            "45/45 [==============================] - 0s 4ms/step - loss: 104447.6484 - mae: 164.5507 - val_loss: 36333.1523 - val_mae: 102.8603\n",
            "Epoch 47/50\n",
            "45/45 [==============================] - 0s 4ms/step - loss: 109756.9297 - mae: 163.4039 - val_loss: 35174.3086 - val_mae: 101.5155\n",
            "Epoch 48/50\n",
            "45/45 [==============================] - 0s 4ms/step - loss: 108668.9688 - mae: 162.5924 - val_loss: 30106.1719 - val_mae: 95.6001\n",
            "Epoch 49/50\n",
            "45/45 [==============================] - 0s 4ms/step - loss: 96372.7969 - mae: 160.7167 - val_loss: 31752.3770 - val_mae: 96.2457\n",
            "Epoch 50/50\n",
            "45/45 [==============================] - 0s 4ms/step - loss: 108162.5078 - mae: 167.8487 - val_loss: 33170.2930 - val_mae: 98.9494\n",
            "12/12 [==============================] - 0s 2ms/step\n",
            "Test loss: 33170.29296875\n",
            "Test MAE: 98.94937133789062\n",
            "R2 score: 0.9731624155422682\n"
          ]
        }
      ]
    },
    {
      "cell_type": "code",
      "source": [
        "new_data = np.array([[1, 1, 2021, 1]])\n",
        "new_data_scaled = scaler.transform(new_data)\n",
        "prediction = model.predict(new_data_scaled)\n",
        "print(\"Predicted value:\", prediction[0][0])"
      ],
      "metadata": {
        "colab": {
          "base_uri": "https://localhost:8080/"
        },
        "id": "F-R4mfaOPhzr",
        "outputId": "74a2b0aa-c997-4929-cabc-6e245c13ae38"
      },
      "execution_count": 30,
      "outputs": [
        {
          "output_type": "stream",
          "name": "stdout",
          "text": [
            "1/1 [==============================] - 0s 23ms/step\n",
            "Predicted value: 20.817627\n"
          ]
        },
        {
          "output_type": "stream",
          "name": "stderr",
          "text": [
            "/usr/local/lib/python3.9/dist-packages/sklearn/base.py:420: UserWarning: X does not have valid feature names, but StandardScaler was fitted with feature names\n",
            "  warnings.warn(\n"
          ]
        }
      ]
    },
    {
      "cell_type": "code",
      "source": [
        "y_pred = model.predict(X_test)\n",
        "X_test_df = pd.DataFrame(X_test, columns=['Category_Code', 'Accident_Type_Code', 'Year', 'Month'])"
      ],
      "metadata": {
        "colab": {
          "base_uri": "https://localhost:8080/"
        },
        "id": "XU30gJPHjRAB",
        "outputId": "7e43df9c-ff0a-46f9-fee4-d664a5f60f2a"
      },
      "execution_count": 31,
      "outputs": [
        {
          "output_type": "stream",
          "name": "stdout",
          "text": [
            "12/12 [==============================] - 0s 2ms/step\n"
          ]
        }
      ]
    },
    {
      "cell_type": "code",
      "source": [
        "# Combine month and year columns to create date column\n",
        "X_test_df['Date'] = X_test_df['Year'].astype(str) + '-' + X_test_df['Month'].astype(str)"
      ],
      "metadata": {
        "id": "pMYA5QjCmSwb"
      },
      "execution_count": 32,
      "outputs": []
    },
    {
      "cell_type": "code",
      "source": [
        "# Set date column as index and sort by index\n",
        "X_test_df = X_test_df.set_index('Date')\n",
        "X_test_df = X_test_df.sort_index()"
      ],
      "metadata": {
        "id": "SoshLJWkmVZj"
      },
      "execution_count": 33,
      "outputs": []
    },
    {
      "cell_type": "code",
      "source": [
        "# Create a line plot of actual and predicted values\n",
        "plt.figure(figsize=(12, 6))\n",
        "plt.plot(X_test_df.index, y_test, label='Actual')\n",
        "plt.plot(X_test_df.index, y_pred, label='Predicted')\n",
        "plt.xlabel('Year-Month')\n",
        "plt.ylabel('Value')\n",
        "plt.title('Actual vs Predicted Values')\n",
        "plt.legend()\n",
        "plt.show()"
      ],
      "metadata": {
        "colab": {
          "base_uri": "https://localhost:8080/",
          "height": 402
        },
        "id": "-9C_FVRomX3D",
        "outputId": "a3affc20-9613-4bff-efb4-b71a926a03fb"
      },
      "execution_count": 34,
      "outputs": [
        {
          "output_type": "display_data",
          "data": {
            "text/plain": [
              "<Figure size 864x432 with 1 Axes>"
            ],
            "image/png": "[encoded data removed]"
          },
          "metadata": {
            "needs_background": "light"
          }
        }
      ]
    },
    {
      "cell_type": "code",
      "source": [
        "from tensorflow.keras.models import load_model\n",
        "model.save('/content/drive/MyDrive/Acc_pred model/nn_acc_pred.h5')"
      ],
      "metadata": {
        "id": "UA3aDA7rMlHL"
      },
      "execution_count": 36,
      "outputs": []
    }
  ]
}